{
 "cells": [
  {
   "cell_type": "markdown",
   "id": "7793dab7-617b-4368-8c9d-83412bd55b08",
   "metadata": {},
   "source": [
    "# 거스름돈 계산"
   ]
  },
  {
   "cell_type": "code",
   "execution_count": 12,
   "id": "feeeb8d2-9820-4cf1-8f77-f0434e007962",
   "metadata": {},
   "outputs": [],
   "source": [
    "def changes(money):\n",
    "    changes_list = [500, 100, 50, 10]\n",
    "    result_list = {}\n",
    "    temp_money = money\n",
    "\n",
    "    for x in changes_list:\n",
    "        if temp_money / x >= 0:\n",
    "            result_list[x] = int(temp_money / x)\n",
    "            temp_money = temp_money % x\n",
    "    print(result_list)"
   ]
  },
  {
   "cell_type": "code",
   "execution_count": 16,
   "id": "bcc7e6ad-aaca-4133-9a9b-38fec12d78b1",
   "metadata": {},
   "outputs": [
    {
     "name": "stdout",
     "output_type": "stream",
     "text": [
      "{500: 0, 100: 0, 50: 0, 10: 1}\n"
     ]
    }
   ],
   "source": [
    "changes(10)"
   ]
  },
  {
   "cell_type": "markdown",
   "id": "429c6cea-2e57-43e0-bc9e-50f9980c1ac0",
   "metadata": {},
   "source": [
    "# 그리디(Greedy) 알고리즘\n",
    "* 탐욕 알고리즘, 탐욕법, 욕심 알고리즘으로 칭하기도 함\n",
    "* 현재 상황에서 가장 좋은 케이스만 선택\n",
    "* 항상 최선의 성능을 보장하지는 않는다"
   ]
  },
  {
   "cell_type": "markdown",
   "id": "69f61de5-9eb2-4237-94f8-be584cc0f533",
   "metadata": {},
   "source": [
    "# indexing"
   ]
  },
  {
   "cell_type": "code",
   "execution_count": 18,
   "id": "369e0065-5a4e-4502-981d-a35ffa64c1db",
   "metadata": {},
   "outputs": [],
   "source": [
    "import numpy as np"
   ]
  },
  {
   "cell_type": "code",
   "execution_count": 19,
   "id": "3d387d85-1f14-45b8-b106-80555e532588",
   "metadata": {},
   "outputs": [],
   "source": [
    "np_a = np.arange(1, 13).reshape(4, 3)"
   ]
  },
  {
   "cell_type": "code",
   "execution_count": 20,
   "id": "6a4444de-0e5f-4784-b510-7dd6f3d872d0",
   "metadata": {},
   "outputs": [
    {
     "data": {
      "text/plain": [
       "(4, 3)"
      ]
     },
     "execution_count": 20,
     "metadata": {},
     "output_type": "execute_result"
    }
   ],
   "source": [
    "np_a.shape"
   ]
  },
  {
   "cell_type": "code",
   "execution_count": 21,
   "id": "0fa65b7a-3176-47cb-a671-6949e3a23fe6",
   "metadata": {},
   "outputs": [
    {
     "data": {
      "text/plain": [
       "2"
      ]
     },
     "execution_count": 21,
     "metadata": {},
     "output_type": "execute_result"
    }
   ],
   "source": [
    "np_a.ndim"
   ]
  },
  {
   "cell_type": "code",
   "execution_count": 22,
   "id": "357ec258-d045-425e-b800-c7ae5f2ea682",
   "metadata": {},
   "outputs": [
    {
     "data": {
      "text/plain": [
       "array([[ 1,  2,  3],\n",
       "       [ 4,  5,  6],\n",
       "       [ 7,  8,  9],\n",
       "       [10, 11, 12]])"
      ]
     },
     "execution_count": 22,
     "metadata": {},
     "output_type": "execute_result"
    }
   ],
   "source": [
    "np_a"
   ]
  },
  {
   "cell_type": "code",
   "execution_count": 23,
   "id": "4f95c3d9-602f-43a0-ac18-a3a8e9a4dbcb",
   "metadata": {},
   "outputs": [
    {
     "data": {
      "text/plain": [
       "1"
      ]
     },
     "execution_count": 23,
     "metadata": {},
     "output_type": "execute_result"
    }
   ],
   "source": [
    "np_a[0, 0]"
   ]
  }
 ],
 "metadata": {
  "kernelspec": {
   "display_name": "Python 3",
   "language": "python",
   "name": "python3"
  },
  "language_info": {
   "codemirror_mode": {
    "name": "ipython",
    "version": 3
   },
   "file_extension": ".py",
   "mimetype": "text/x-python",
   "name": "python",
   "nbconvert_exporter": "python",
   "pygments_lexer": "ipython3",
   "version": "3.8.8"
  }
 },
 "nbformat": 4,
 "nbformat_minor": 5
}
