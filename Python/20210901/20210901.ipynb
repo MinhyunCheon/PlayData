{
 "cells": [
  {
   "cell_type": "code",
   "execution_count": 1,
   "id": "a04b6e44-5b4f-4171-b6cb-b5da9b28dde5",
   "metadata": {},
   "outputs": [
    {
     "name": "stdin",
     "output_type": "stream",
     "text": [
      " 231\n"
     ]
    }
   ],
   "source": [
    "a = input()"
   ]
  },
  {
   "cell_type": "code",
   "execution_count": 3,
   "id": "ab565196-b756-4f8f-9c84-be5bb44d0cc2",
   "metadata": {},
   "outputs": [
    {
     "name": "stdout",
     "output_type": "stream",
     "text": [
      "1\n",
      "unsupported operand type(s) for /: 'str' and 'int'\n",
      "error\n"
     ]
    }
   ],
   "source": [
    "try:\n",
    "    print('1')\n",
    "    a / 0\n",
    "except Exception as e:\n",
    "    print(e)\n",
    "    print('error')"
   ]
  },
  {
   "cell_type": "code",
   "execution_count": 22,
   "id": "b1786dba-c74b-4a67-b0c3-f6f285c7f368",
   "metadata": {},
   "outputs": [],
   "source": [
    "def MaxNum(a, b, c):\n",
    "    try:\n",
    "        list = [a, b, c]\n",
    "        print(sorted(list, reverse=True)[0])\n",
    "    except Exception as e:\n",
    "        print('문자가 포함되어 있습니다. 제거 후 다시 시도해주세요.')\n",
    "        print(e)"
   ]
  },
  {
   "cell_type": "code",
   "execution_count": 25,
   "id": "657672fc-ea56-4a9a-8f67-fc44fe64fcdc",
   "metadata": {},
   "outputs": [
    {
     "name": "stdout",
     "output_type": "stream",
     "text": [
      "a\n"
     ]
    }
   ],
   "source": [
    "MaxNum('a', '2', '3')"
   ]
  },
  {
   "cell_type": "markdown",
   "id": "bf2cb093-49d9-4b74-b5bf-a678d67f6a33",
   "metadata": {},
   "source": [
    "# 파일 I/O"
   ]
  },
  {
   "cell_type": "code",
   "execution_count": 26,
   "id": "e243a6ee-4180-4ade-8350-b9401acce58c",
   "metadata": {},
   "outputs": [],
   "source": [
    "import os"
   ]
  },
  {
   "cell_type": "code",
   "execution_count": 28,
   "id": "777bbc9c-d850-46f5-a37a-5a45b0d9d9fd",
   "metadata": {},
   "outputs": [
    {
     "data": {
      "text/plain": [
       "'c:\\\\workspace'"
      ]
     },
     "execution_count": 28,
     "metadata": {},
     "output_type": "execute_result"
    }
   ],
   "source": [
    "os.getcwd() # 현재 작업 폴더"
   ]
  },
  {
   "cell_type": "code",
   "execution_count": 30,
   "id": "5c8783c4-37d6-4cdb-8ad4-b7db32b813ff",
   "metadata": {},
   "outputs": [],
   "source": [
    "os.chdir(\"c:\\\\workspace\") # 작업 폴더 변경"
   ]
  },
  {
   "cell_type": "markdown",
   "id": "09461854-eada-44cf-9e08-68431796f2fe",
   "metadata": {},
   "source": [
    "### 상대경로, 절대경로\n",
    "* 윈도우에서 파이썬 사용 시, \\를 인식하지 못해 \\\\ 또는 /로 대체"
   ]
  },
  {
   "cell_type": "code",
   "execution_count": 31,
   "id": "3e3bafea-bbc4-4dd4-a04d-332f92059a93",
   "metadata": {},
   "outputs": [],
   "source": [
    "f1 = open(\"./temp/a.txt\", \"w\")"
   ]
  },
  {
   "cell_type": "code",
   "execution_count": 35,
   "id": "5b4c77e1-3b7b-4f3e-9a13-b8cde17ad37f",
   "metadata": {},
   "outputs": [],
   "source": [
    "f2 = open(\"c:/workspace/temp/b.txt\", \"w\")"
   ]
  },
  {
   "cell_type": "code",
   "execution_count": 36,
   "id": "d948592a-5fd5-4b78-bf6d-53575494eae5",
   "metadata": {},
   "outputs": [
    {
     "name": "stdout",
     "output_type": "stream",
     "text": [
      "<_io.TextIOWrapper name='./temp/a.txt' mode='w' encoding='cp949'>\n"
     ]
    }
   ],
   "source": [
    "print(f1)"
   ]
  },
  {
   "cell_type": "code",
   "execution_count": 38,
   "id": "347c881b-54d4-4585-93a7-1a1906b1afbb",
   "metadata": {},
   "outputs": [
    {
     "data": {
      "text/plain": [
       "2"
      ]
     },
     "execution_count": 38,
     "metadata": {},
     "output_type": "execute_result"
    }
   ],
   "source": [
    "f1.write(\"Hi\")"
   ]
  },
  {
   "cell_type": "code",
   "execution_count": 40,
   "id": "099921b8-ebca-46ee-aaf2-79af59567495",
   "metadata": {},
   "outputs": [],
   "source": [
    "f1.close() # 파일을 닫아야 내용이 정상적으로 입력됨"
   ]
  },
  {
   "cell_type": "code",
   "execution_count": 44,
   "id": "1c2adf59-9331-49ba-a855-2143e8d24c43",
   "metadata": {},
   "outputs": [],
   "source": [
    "f3 = open(\"./temp/c.txt\", \"w+\") # w+는 기존 내용을 덮어씀\n",
    "f3.write(\"h\")\n",
    "f3.close()"
   ]
  },
  {
   "cell_type": "code",
   "execution_count": 47,
   "id": "2df6494c-0be5-44e7-aed9-685083c7a8f7",
   "metadata": {},
   "outputs": [],
   "source": [
    "f4 = open(\"./temp/d.txt\", \"w\", encoding=\"euc-kr\")\n",
    "f4.write(\"가나다라\")\n",
    "f4.close()"
   ]
  },
  {
   "cell_type": "code",
   "execution_count": 49,
   "id": "688776d5-ea71-4ff5-8024-f91eba2eb653",
   "metadata": {},
   "outputs": [],
   "source": [
    "f5 = open(\"./temp/d.txt\", \"r\")"
   ]
  },
  {
   "cell_type": "code",
   "execution_count": 50,
   "id": "e852ad11-fb95-4472-90ba-b8c346e09685",
   "metadata": {},
   "outputs": [
    {
     "data": {
      "text/plain": [
       "'가나다라'"
      ]
     },
     "execution_count": 50,
     "metadata": {},
     "output_type": "execute_result"
    }
   ],
   "source": [
    "f5.read()"
   ]
  },
  {
   "cell_type": "code",
   "execution_count": 52,
   "id": "b5c5866b-0556-472e-ad18-379876f32d90",
   "metadata": {},
   "outputs": [
    {
     "data": {
      "text/plain": [
       "''"
      ]
     },
     "execution_count": 52,
     "metadata": {},
     "output_type": "execute_result"
    }
   ],
   "source": [
    "f5.read() # 모든 내용을 출력한 뒤 최하단으로 커서가 이동해 더 이상 출력할 데이터가 없음"
   ]
  },
  {
   "cell_type": "code",
   "execution_count": 54,
   "id": "bd85770c-c908-4bab-9181-50071de8502e",
   "metadata": {},
   "outputs": [
    {
     "data": {
      "text/plain": [
       "0"
      ]
     },
     "execution_count": 54,
     "metadata": {},
     "output_type": "execute_result"
    }
   ],
   "source": [
    "f5.seek(0) # 커서의 위치를 최상단으로 이동"
   ]
  },
  {
   "cell_type": "code",
   "execution_count": 56,
   "id": "325b0c56-6c7e-46d6-8716-c28a6fdde27c",
   "metadata": {},
   "outputs": [
    {
     "data": {
      "text/plain": [
       "''"
      ]
     },
     "execution_count": 56,
     "metadata": {},
     "output_type": "execute_result"
    }
   ],
   "source": [
    "f5.read() # 초기와 같은 내용 출력"
   ]
  },
  {
   "cell_type": "code",
   "execution_count": 58,
   "id": "54645c4f-a88b-4434-aff0-f3c8da9149ac",
   "metadata": {},
   "outputs": [
    {
     "data": {
      "text/plain": [
       "8"
      ]
     },
     "execution_count": 58,
     "metadata": {},
     "output_type": "execute_result"
    }
   ],
   "source": [
    "f5.tell() # 바이트 수 출력"
   ]
  },
  {
   "cell_type": "code",
   "execution_count": 61,
   "id": "25952dd0-850c-4de9-b157-0b698a1e6e02",
   "metadata": {},
   "outputs": [
    {
     "data": {
      "text/plain": [
       "0"
      ]
     },
     "execution_count": 61,
     "metadata": {},
     "output_type": "execute_result"
    }
   ],
   "source": [
    "f5.seek(0)"
   ]
  },
  {
   "cell_type": "code",
   "execution_count": 62,
   "id": "7ef4c859-bdc2-4610-b4fd-ee7b558f9815",
   "metadata": {},
   "outputs": [
    {
     "data": {
      "text/plain": [
       "'가나다라'"
      ]
     },
     "execution_count": 62,
     "metadata": {},
     "output_type": "execute_result"
    }
   ],
   "source": [
    "f5.readline() # 1줄 씩 출력"
   ]
  },
  {
   "cell_type": "code",
   "execution_count": 86,
   "id": "9db62f93-19a0-460f-bc59-5c39dc501d83",
   "metadata": {},
   "outputs": [
    {
     "name": "stdout",
     "output_type": "stream",
     "text": [
      "43\n"
     ]
    }
   ],
   "source": [
    "f6 = open(\"./temp/butter.txt\", \"r\", encoding=\"utf-8\")\n",
    "lineCount = 0\n",
    "for x in f6:\n",
    "    if f6.readline() == '': break\n",
    "    lineCount += 1\n",
    "print(lineCount)"
   ]
  },
  {
   "cell_type": "markdown",
   "id": "43d80575-b557-47f0-a538-bca1f754ae61",
   "metadata": {},
   "source": [
    "### with() 구문\n",
    "* 게으른 연산(lazy evaluation)\n",
    "    * 사용할 데이터만 메모리에 적재(대용량 데이터를 처리할 때 메모리 관리에 유리)\n",
    "    * 별도의 close()를 선언하지 않아도 자동으로 close 처리"
   ]
  }
 ],
 "metadata": {
  "kernelspec": {
   "display_name": "Python 3",
   "language": "python",
   "name": "python3"
  },
  "language_info": {
   "codemirror_mode": {
    "name": "ipython",
    "version": 3
   },
   "file_extension": ".py",
   "mimetype": "text/x-python",
   "name": "python",
   "nbconvert_exporter": "python",
   "pygments_lexer": "ipython3",
   "version": "3.8.8"
  }
 },
 "nbformat": 4,
 "nbformat_minor": 5
}
