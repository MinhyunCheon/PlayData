{
 "cells": [
  {
   "cell_type": "code",
   "execution_count": 2,
   "id": "78b16a9c-d72d-4966-b26c-1cf790d5b8a7",
   "metadata": {},
   "outputs": [],
   "source": [
    "import requests\n",
    "from bs4 import BeautifulSoup"
   ]
  },
  {
   "cell_type": "code",
   "execution_count": 3,
   "id": "3561fae7-d9b4-4683-81fb-4e6655688289",
   "metadata": {},
   "outputs": [],
   "source": [
    "head = {\n",
    "    'user-agent': \n",
    "    \"Mozilla/5.0 (Windows NT 10.0; Win64; x64) AppleWebKit/537.36 (KHTML, like Gecko) Chrome/92.0.4515.159 Safari/537.36 Edg/92.0.902.84\"\n",
    "}"
   ]
  },
  {
   "cell_type": "code",
   "execution_count": 4,
   "id": "7101d0d9-ab90-4f1b-a6a2-43895b042bcc",
   "metadata": {},
   "outputs": [],
   "source": [
    "target_url = \"https://www.melon.com/chart/index.htm\""
   ]
  },
  {
   "cell_type": "code",
   "execution_count": 6,
   "id": "a0ac5b94-acfe-4427-bb10-178dffacdcc7",
   "metadata": {},
   "outputs": [],
   "source": [
    "r = requests.get(target_url, headers=head)"
   ]
  },
  {
   "cell_type": "code",
   "execution_count": 8,
   "id": "b4413378-c81a-4164-bb83-dcc6b822b2e1",
   "metadata": {},
   "outputs": [
    {
     "data": {
      "text/plain": [
       "['__attrs__',\n",
       " '__bool__',\n",
       " '__class__',\n",
       " '__delattr__',\n",
       " '__dict__',\n",
       " '__dir__',\n",
       " '__doc__',\n",
       " '__enter__',\n",
       " '__eq__',\n",
       " '__exit__',\n",
       " '__format__',\n",
       " '__ge__',\n",
       " '__getattribute__',\n",
       " '__getstate__',\n",
       " '__gt__',\n",
       " '__hash__',\n",
       " '__init__',\n",
       " '__init_subclass__',\n",
       " '__iter__',\n",
       " '__le__',\n",
       " '__lt__',\n",
       " '__module__',\n",
       " '__ne__',\n",
       " '__new__',\n",
       " '__nonzero__',\n",
       " '__reduce__',\n",
       " '__reduce_ex__',\n",
       " '__repr__',\n",
       " '__setattr__',\n",
       " '__setstate__',\n",
       " '__sizeof__',\n",
       " '__str__',\n",
       " '__subclasshook__',\n",
       " '__weakref__',\n",
       " '_content',\n",
       " '_content_consumed',\n",
       " '_next',\n",
       " 'apparent_encoding',\n",
       " 'close',\n",
       " 'connection',\n",
       " 'content',\n",
       " 'cookies',\n",
       " 'elapsed',\n",
       " 'encoding',\n",
       " 'headers',\n",
       " 'history',\n",
       " 'is_permanent_redirect',\n",
       " 'is_redirect',\n",
       " 'iter_content',\n",
       " 'iter_lines',\n",
       " 'json',\n",
       " 'links',\n",
       " 'next',\n",
       " 'ok',\n",
       " 'raise_for_status',\n",
       " 'raw',\n",
       " 'reason',\n",
       " 'request',\n",
       " 'status_code',\n",
       " 'text',\n",
       " 'url']"
      ]
     },
     "execution_count": 8,
     "metadata": {},
     "output_type": "execute_result"
    }
   ],
   "source": [
    "dir(r)"
   ]
  },
  {
   "cell_type": "code",
   "execution_count": 7,
   "id": "3020ec53-15d5-4f1d-b62f-fcce096255bb",
   "metadata": {},
   "outputs": [
    {
     "data": {
      "text/plain": [
       "200"
      ]
     },
     "execution_count": 7,
     "metadata": {},
     "output_type": "execute_result"
    }
   ],
   "source": [
    "r.status_code"
   ]
  },
  {
   "cell_type": "code",
   "execution_count": 8,
   "id": "82a86f62-e65a-48c0-baa9-77380ea4128d",
   "metadata": {},
   "outputs": [],
   "source": [
    "bs = BeautifulSoup(r.text)"
   ]
  },
  {
   "cell_type": "code",
   "execution_count": 9,
   "id": "12082a95-a657-486c-99f2-43c46efe8662",
   "metadata": {},
   "outputs": [],
   "source": [
    "bs_rt = bs.findAll(\"a\", class_ = \"btn button_icons type03 song_info\")"
   ]
  },
  {
   "cell_type": "code",
   "execution_count": 11,
   "id": "8cd4305b-cd9d-4a23-8643-e18d4c32e14b",
   "metadata": {},
   "outputs": [
    {
     "data": {
      "text/plain": [
       "<a class=\"btn button_icons type03 song_info\" href=\"javascript:melon.link.goSongDetail('33658563');\" title=\"STAY 곡정보\"><span class=\"none\">곡정보</span></a>"
      ]
     },
     "execution_count": 11,
     "metadata": {},
     "output_type": "execute_result"
    }
   ],
   "source": [
    "bs_rt[0]"
   ]
  },
  {
   "cell_type": "code",
   "execution_count": 14,
   "id": "e874d756-cf5a-436f-abdf-c9ccf7758ccb",
   "metadata": {},
   "outputs": [
    {
     "name": "stdout",
     "output_type": "stream",
     "text": [
      "[['33658563'], ['33480898'], ['33625988'], ['33487342'], ['33666269'], ['33725775'], ['33805289'], ['33655994'], ['33507137'], ['32698101'], ['33749109'], ['33691794'], ['33878014'], ['33503722'], ['33359317'], ['32872978'], ['32508053'], ['33623210'], ['33589488'], ['33464805'], ['33868791'], ['33759183'], ['30287019'], ['33337651'], ['33372781'], ['33496587'], ['33036660'], ['33239419'], ['33652821'], ['33514925'], ['33618271'], ['33589260'], ['33630420'], ['33559180'], ['33599821'], ['33527705'], ['32962258'], ['33397561'], ['33606505'], ['33883214'], ['33800786'], ['33359725'], ['31737197'], ['33618864'], ['32860397'], ['33625989'], ['8302665'], ['33728859'], ['33884059'], ['31254010'], ['30244931'], ['3414749'], ['33167063'], ['33359309'], ['33077234'], ['1944399'], ['33061995'], ['8130796'], ['33408084'], ['33315511'], ['32961718'], ['33632153'], ['32061975'], ['33855085'], ['32491274'], ['33248758'], ['33742378'], ['33372788'], ['32183386'], ['33510307'], ['33858616'], ['33013877'], ['33772329'], ['32578498'], ['31029291'], ['33107649'], ['32794652'], ['30962526'], ['32559782'], ['33716984'], ['33825315'], ['32003395'], ['33331004'], ['31509376'], ['33699116'], ['1854856'], ['32224272'], ['33812065'], ['3894276'], ['32224166'], ['31853557'], ['33601086'], ['33692354'], ['33011180'], ['33077590'], ['32055419'], ['33372783'], ['32438894'], ['32525311'], ['33872789']]\n"
     ]
    }
   ],
   "source": [
    "import re\n",
    "result = []\n",
    "for x in bs_rt[0:100]:\n",
    "    result.append(re.findall(\"\\d+\", x['href']))\n",
    "    \n",
    "print(result)"
   ]
  }
 ],
 "metadata": {
  "kernelspec": {
   "display_name": "Python 3",
   "language": "python",
   "name": "python3"
  },
  "language_info": {
   "codemirror_mode": {
    "name": "ipython",
    "version": 3
   },
   "file_extension": ".py",
   "mimetype": "text/x-python",
   "name": "python",
   "nbconvert_exporter": "python",
   "pygments_lexer": "ipython3",
   "version": "3.8.8"
  }
 },
 "nbformat": 4,
 "nbformat_minor": 5
}
