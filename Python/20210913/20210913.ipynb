{
 "cells": [
  {
   "cell_type": "markdown",
   "id": "39d6c9d9-bf21-42bc-8eb4-e94b9b4202dc",
   "metadata": {},
   "source": [
    "# Big-O\n",
    "* for문이 중첩되는 경우 실행 횟수가 배로 늘어나기 때문에 효율면에서 불리\n",
    "* Dict는 hash값을 갖기 때문에 속도 면에서 가장 빠름"
   ]
  },
  {
   "cell_type": "code",
   "execution_count": 5,
   "id": "7ae5bb09-5eec-4bc6-8e43-bd05384c223a",
   "metadata": {},
   "outputs": [],
   "source": [
    "nums = [2, 7, 11, 15]; target = 9\n",
    "# 기존 풀이\n",
    "def twoSum(self, nums: List[int], target: int) -> List[int]:\n",
    "    nums_len = len(nums)\n",
    "    result_list = []\n",
    "\n",
    "    for x in range(0, nums_len):\n",
    "        for y in range(x+1, nums_len):\n",
    "            if nums[x] + nums[y] == target:\n",
    "                result_list.append(x)\n",
    "                result_list.append(y)\n",
    "                return result_list  # 정답을 찾은 경우 바로 return하면 약 2000ms정도 속도 증가, 메모리 사용량은 차이 없음\n",
    "    return result_list\n",
    "                    \n",
    "# dict를 활용해 개선된 풀이\n",
    "def two_sum(nums, target):\n",
    "    nums_map = {}\n",
    "    for i, num in enumerate(nums):\n",
    "        nums_map[num] = i\n",
    "        \n",
    "    for i, num in enumerate(nums):\n",
    "        if target - num in nums_map and i != nums_map[target - num]:\n",
    "            return nums.index(num), nums_map[target - num]"
   ]
  },
  {
   "cell_type": "code",
   "execution_count": 6,
   "id": "a77d4443-2a79-4479-a84f-94d645d9b42d",
   "metadata": {},
   "outputs": [
    {
     "data": {
      "text/plain": [
       "(0, 1)"
      ]
     },
     "execution_count": 6,
     "metadata": {},
     "output_type": "execute_result"
    }
   ],
   "source": [
    "two_sum(nums, target)"
   ]
  },
  {
   "cell_type": "markdown",
   "id": "4f2a62fb-b86a-450c-9585-984a795831eb",
   "metadata": {},
   "source": [
    "# Class\n",
    "* Method : Class 내부의 함수"
   ]
  },
  {
   "cell_type": "code",
   "execution_count": 7,
   "id": "006a2dcd-ad5d-4a32-ae7b-c6fad3e27673",
   "metadata": {},
   "outputs": [],
   "source": [
    "import pandas as pd"
   ]
  },
  {
   "cell_type": "code",
   "execution_count": 9,
   "id": "5f0cdfc9-5fce-4ea4-b4c4-0489dc6fca0f",
   "metadata": {
    "scrolled": true,
    "tags": []
   },
   "outputs": [
    {
     "data": {
      "text/plain": [
       "['T',\n",
       " '_AXIS_LEN',\n",
       " '_AXIS_NAMES',\n",
       " '_AXIS_NUMBERS',\n",
       " '_AXIS_ORDERS',\n",
       " '_AXIS_REVERSED',\n",
       " '_AXIS_TO_AXIS_NUMBER',\n",
       " '_HANDLED_TYPES',\n",
       " '__abs__',\n",
       " '__add__',\n",
       " '__and__',\n",
       " '__annotations__',\n",
       " '__array__',\n",
       " '__array_priority__',\n",
       " '__array_ufunc__',\n",
       " '__array_wrap__',\n",
       " '__bool__',\n",
       " '__class__',\n",
       " '__contains__',\n",
       " '__copy__',\n",
       " '__deepcopy__',\n",
       " '__delattr__',\n",
       " '__delitem__',\n",
       " '__dict__',\n",
       " '__dir__',\n",
       " '__divmod__',\n",
       " '__doc__',\n",
       " '__eq__',\n",
       " '__finalize__',\n",
       " '__floordiv__',\n",
       " '__format__',\n",
       " '__ge__',\n",
       " '__getattr__',\n",
       " '__getattribute__',\n",
       " '__getitem__',\n",
       " '__getstate__',\n",
       " '__gt__',\n",
       " '__hash__',\n",
       " '__iadd__',\n",
       " '__iand__',\n",
       " '__ifloordiv__',\n",
       " '__imod__',\n",
       " '__imul__',\n",
       " '__init__',\n",
       " '__init_subclass__',\n",
       " '__invert__',\n",
       " '__ior__',\n",
       " '__ipow__',\n",
       " '__isub__',\n",
       " '__iter__',\n",
       " '__itruediv__',\n",
       " '__ixor__',\n",
       " '__le__',\n",
       " '__len__',\n",
       " '__lt__',\n",
       " '__matmul__',\n",
       " '__mod__',\n",
       " '__module__',\n",
       " '__mul__',\n",
       " '__ne__',\n",
       " '__neg__',\n",
       " '__new__',\n",
       " '__nonzero__',\n",
       " '__or__',\n",
       " '__pos__',\n",
       " '__pow__',\n",
       " '__radd__',\n",
       " '__rand__',\n",
       " '__rdivmod__',\n",
       " '__reduce__',\n",
       " '__reduce_ex__',\n",
       " '__repr__',\n",
       " '__rfloordiv__',\n",
       " '__rmatmul__',\n",
       " '__rmod__',\n",
       " '__rmul__',\n",
       " '__ror__',\n",
       " '__round__',\n",
       " '__rpow__',\n",
       " '__rsub__',\n",
       " '__rtruediv__',\n",
       " '__rxor__',\n",
       " '__setattr__',\n",
       " '__setitem__',\n",
       " '__setstate__',\n",
       " '__sizeof__',\n",
       " '__str__',\n",
       " '__sub__',\n",
       " '__subclasshook__',\n",
       " '__truediv__',\n",
       " '__weakref__',\n",
       " '__xor__',\n",
       " '_accessors',\n",
       " '_accum_func',\n",
       " '_add_numeric_operations',\n",
       " '_agg_by_level',\n",
       " '_agg_examples_doc',\n",
       " '_agg_summary_and_see_also_doc',\n",
       " '_aggregate',\n",
       " '_align_frame',\n",
       " '_align_series',\n",
       " '_arith_method',\n",
       " '_box_col_values',\n",
       " '_builtin_table',\n",
       " '_can_fast_transpose',\n",
       " '_check_inplace_and_allows_duplicate_labels',\n",
       " '_check_inplace_setting',\n",
       " '_check_is_chained_assignment_possible',\n",
       " '_check_label_or_level_ambiguity',\n",
       " '_check_setitem_copy',\n",
       " '_clear_item_cache',\n",
       " '_clip_with_one_bound',\n",
       " '_clip_with_scalar',\n",
       " '_cmp_method',\n",
       " '_combine_frame',\n",
       " '_consolidate',\n",
       " '_consolidate_inplace',\n",
       " '_construct_axes_dict',\n",
       " '_construct_axes_from_arguments',\n",
       " '_construct_result',\n",
       " '_constructor',\n",
       " '_constructor_expanddim',\n",
       " '_constructor_sliced',\n",
       " '_convert',\n",
       " '_count_level',\n",
       " '_cython_table',\n",
       " '_data',\n",
       " '_dir_additions',\n",
       " '_dir_deletions',\n",
       " '_dispatch_frame_op',\n",
       " '_drop_axis',\n",
       " '_drop_labels_or_levels',\n",
       " '_ensure_valid_index',\n",
       " '_find_valid_index',\n",
       " '_from_arrays',\n",
       " '_get_agg_axis',\n",
       " '_get_axis',\n",
       " '_get_axis_name',\n",
       " '_get_axis_number',\n",
       " '_get_axis_resolvers',\n",
       " '_get_block_manager_axis',\n",
       " '_get_bool_data',\n",
       " '_get_cacher',\n",
       " '_get_cleaned_column_resolvers',\n",
       " '_get_column_array',\n",
       " '_get_cython_func',\n",
       " '_get_index_resolvers',\n",
       " '_get_item_cache',\n",
       " '_get_label_or_level_values',\n",
       " '_get_numeric_data',\n",
       " '_get_value',\n",
       " '_getitem_bool_array',\n",
       " '_getitem_multilevel',\n",
       " '_gotitem',\n",
       " '_hidden_attrs',\n",
       " '_indexed_same',\n",
       " '_info_axis',\n",
       " '_info_axis_name',\n",
       " '_info_axis_number',\n",
       " '_info_repr',\n",
       " '_init_mgr',\n",
       " '_inplace_method',\n",
       " '_internal_names',\n",
       " '_internal_names_set',\n",
       " '_is_builtin_func',\n",
       " '_is_cached',\n",
       " '_is_copy',\n",
       " '_is_homogeneous_type',\n",
       " '_is_label_or_level_reference',\n",
       " '_is_label_reference',\n",
       " '_is_level_reference',\n",
       " '_is_mixed_type',\n",
       " '_is_view',\n",
       " '_iset_item',\n",
       " '_iter_column_arrays',\n",
       " '_ix',\n",
       " '_ixs',\n",
       " '_join_compat',\n",
       " '_logical_func',\n",
       " '_logical_method',\n",
       " '_maybe_cache_changed',\n",
       " '_maybe_update_cacher',\n",
       " '_metadata',\n",
       " '_min_count_stat_function',\n",
       " '_needs_reindex_multi',\n",
       " '_obj_with_exclusions',\n",
       " '_protect_consolidate',\n",
       " '_reduce',\n",
       " '_reindex_axes',\n",
       " '_reindex_columns',\n",
       " '_reindex_index',\n",
       " '_reindex_multi',\n",
       " '_reindex_with_indexers',\n",
       " '_replace_columnwise',\n",
       " '_repr_data_resource_',\n",
       " '_repr_fits_horizontal_',\n",
       " '_repr_fits_vertical_',\n",
       " '_repr_html_',\n",
       " '_repr_latex_',\n",
       " '_reset_cache',\n",
       " '_reset_cacher',\n",
       " '_sanitize_column',\n",
       " '_selected_obj',\n",
       " '_selection',\n",
       " '_selection_list',\n",
       " '_selection_name',\n",
       " '_series',\n",
       " '_set_as_cached',\n",
       " '_set_axis',\n",
       " '_set_axis_name',\n",
       " '_set_axis_nocheck',\n",
       " '_set_is_copy',\n",
       " '_set_item',\n",
       " '_set_value',\n",
       " '_setitem_array',\n",
       " '_setitem_frame',\n",
       " '_setitem_slice',\n",
       " '_slice',\n",
       " '_stat_axis',\n",
       " '_stat_axis_name',\n",
       " '_stat_axis_number',\n",
       " '_stat_function',\n",
       " '_stat_function_ddof',\n",
       " '_take_with_is_copy',\n",
       " '_to_dict_of_blocks',\n",
       " '_try_aggregate_string_function',\n",
       " '_typ',\n",
       " '_update_inplace',\n",
       " '_validate_dtype',\n",
       " '_values',\n",
       " '_where',\n",
       " 'abs',\n",
       " 'add',\n",
       " 'add_prefix',\n",
       " 'add_suffix',\n",
       " 'agg',\n",
       " 'aggregate',\n",
       " 'align',\n",
       " 'all',\n",
       " 'any',\n",
       " 'append',\n",
       " 'apply',\n",
       " 'applymap',\n",
       " 'asfreq',\n",
       " 'asof',\n",
       " 'assign',\n",
       " 'astype',\n",
       " 'at',\n",
       " 'at_time',\n",
       " 'attrs',\n",
       " 'axes',\n",
       " 'backfill',\n",
       " 'between_time',\n",
       " 'bfill',\n",
       " 'bool',\n",
       " 'boxplot',\n",
       " 'clip',\n",
       " 'columns',\n",
       " 'combine',\n",
       " 'combine_first',\n",
       " 'compare',\n",
       " 'convert_dtypes',\n",
       " 'copy',\n",
       " 'corr',\n",
       " 'corrwith',\n",
       " 'count',\n",
       " 'cov',\n",
       " 'cummax',\n",
       " 'cummin',\n",
       " 'cumprod',\n",
       " 'cumsum',\n",
       " 'describe',\n",
       " 'diff',\n",
       " 'div',\n",
       " 'divide',\n",
       " 'dot',\n",
       " 'drop',\n",
       " 'drop_duplicates',\n",
       " 'droplevel',\n",
       " 'dropna',\n",
       " 'dtypes',\n",
       " 'duplicated',\n",
       " 'empty',\n",
       " 'eq',\n",
       " 'equals',\n",
       " 'eval',\n",
       " 'ewm',\n",
       " 'expanding',\n",
       " 'explode',\n",
       " 'ffill',\n",
       " 'fillna',\n",
       " 'filter',\n",
       " 'first',\n",
       " 'first_valid_index',\n",
       " 'flags',\n",
       " 'floordiv',\n",
       " 'from_dict',\n",
       " 'from_records',\n",
       " 'ge',\n",
       " 'get',\n",
       " 'groupby',\n",
       " 'gt',\n",
       " 'head',\n",
       " 'hist',\n",
       " 'iat',\n",
       " 'idxmax',\n",
       " 'idxmin',\n",
       " 'iloc',\n",
       " 'index',\n",
       " 'infer_objects',\n",
       " 'info',\n",
       " 'insert',\n",
       " 'interpolate',\n",
       " 'isin',\n",
       " 'isna',\n",
       " 'isnull',\n",
       " 'items',\n",
       " 'iteritems',\n",
       " 'iterrows',\n",
       " 'itertuples',\n",
       " 'join',\n",
       " 'keys',\n",
       " 'kurt',\n",
       " 'kurtosis',\n",
       " 'last',\n",
       " 'last_valid_index',\n",
       " 'le',\n",
       " 'loc',\n",
       " 'lookup',\n",
       " 'lt',\n",
       " 'mad',\n",
       " 'mask',\n",
       " 'max',\n",
       " 'mean',\n",
       " 'median',\n",
       " 'melt',\n",
       " 'memory_usage',\n",
       " 'merge',\n",
       " 'min',\n",
       " 'mod',\n",
       " 'mode',\n",
       " 'mul',\n",
       " 'multiply',\n",
       " 'ndim',\n",
       " 'ne',\n",
       " 'nlargest',\n",
       " 'notna',\n",
       " 'notnull',\n",
       " 'nsmallest',\n",
       " 'nunique',\n",
       " 'pad',\n",
       " 'pct_change',\n",
       " 'pipe',\n",
       " 'pivot',\n",
       " 'pivot_table',\n",
       " 'plot',\n",
       " 'pop',\n",
       " 'pow',\n",
       " 'prod',\n",
       " 'product',\n",
       " 'quantile',\n",
       " 'query',\n",
       " 'radd',\n",
       " 'rank',\n",
       " 'rdiv',\n",
       " 'reindex',\n",
       " 'reindex_like',\n",
       " 'rename',\n",
       " 'rename_axis',\n",
       " 'reorder_levels',\n",
       " 'replace',\n",
       " 'resample',\n",
       " 'reset_index',\n",
       " 'rfloordiv',\n",
       " 'rmod',\n",
       " 'rmul',\n",
       " 'rolling',\n",
       " 'round',\n",
       " 'rpow',\n",
       " 'rsub',\n",
       " 'rtruediv',\n",
       " 'sample',\n",
       " 'select_dtypes',\n",
       " 'sem',\n",
       " 'set_axis',\n",
       " 'set_flags',\n",
       " 'set_index',\n",
       " 'shape',\n",
       " 'shift',\n",
       " 'size',\n",
       " 'skew',\n",
       " 'slice_shift',\n",
       " 'sort_index',\n",
       " 'sort_values',\n",
       " 'sparse',\n",
       " 'squeeze',\n",
       " 'stack',\n",
       " 'std',\n",
       " 'style',\n",
       " 'sub',\n",
       " 'subtract',\n",
       " 'sum',\n",
       " 'swapaxes',\n",
       " 'swaplevel',\n",
       " 'tail',\n",
       " 'take',\n",
       " 'to_clipboard',\n",
       " 'to_csv',\n",
       " 'to_dict',\n",
       " 'to_excel',\n",
       " 'to_feather',\n",
       " 'to_gbq',\n",
       " 'to_hdf',\n",
       " 'to_html',\n",
       " 'to_json',\n",
       " 'to_latex',\n",
       " 'to_markdown',\n",
       " 'to_numpy',\n",
       " 'to_parquet',\n",
       " 'to_period',\n",
       " 'to_pickle',\n",
       " 'to_records',\n",
       " 'to_sql',\n",
       " 'to_stata',\n",
       " 'to_string',\n",
       " 'to_timestamp',\n",
       " 'to_xarray',\n",
       " 'transform',\n",
       " 'transpose',\n",
       " 'truediv',\n",
       " 'truncate',\n",
       " 'tshift',\n",
       " 'tz_convert',\n",
       " 'tz_localize',\n",
       " 'unstack',\n",
       " 'update',\n",
       " 'value_counts',\n",
       " 'values',\n",
       " 'var',\n",
       " 'where',\n",
       " 'xs']"
      ]
     },
     "execution_count": 9,
     "metadata": {},
     "output_type": "execute_result"
    }
   ],
   "source": [
    "dir(pd.DataFrame) # pandas DataFrame이 가진 메소드 리스트"
   ]
  },
  {
   "cell_type": "markdown",
   "id": "96b68e14-036c-4861-95ef-f9ff4ea07552",
   "metadata": {},
   "source": [
    "\\# 다른 언어와 다르게 R은 index가 1부터 시작(R 제작자는 통계학자) 이로 인해 R은 구조적으로 치명적인 약점들이 존재한다\n",
    "* index가 1부터 시작하는 경우 0의 공간을 활용할 수 없음"
   ]
  },
  {
   "cell_type": "markdown",
   "id": "90d6792c-9123-4143-a088-bbf040621465",
   "metadata": {},
   "source": [
    "### Class 만드는 법"
   ]
  },
  {
   "cell_type": "code",
   "execution_count": 11,
   "id": "0f66d131-ecec-460f-a875-95710373ccdd",
   "metadata": {},
   "outputs": [],
   "source": [
    "import keyword"
   ]
  },
  {
   "cell_type": "code",
   "execution_count": 12,
   "id": "e342983a-1521-4ae1-80fb-fae2684cd73c",
   "metadata": {},
   "outputs": [
    {
     "name": "stdout",
     "output_type": "stream",
     "text": [
      "False, None, True, and, as, assert, async, await, break, class, continue, def, del, elif, else, except, finally, for, from, global, if, import, in, is, lambda, nonlocal, not, or, pass, raise, return, try, while, with, yield, "
     ]
    }
   ],
   "source": [
    "# 키워드 리스트에 있는 명칭과 동일한 클래스 명은 사용할 수 없다.\n",
    "for x in keyword.kwlist:\n",
    "    print(x, end= ', ')"
   ]
  },
  {
   "cell_type": "code",
   "execution_count": 13,
   "id": "22fb1f53-922a-412e-b972-cde73c404fb1",
   "metadata": {},
   "outputs": [],
   "source": [
    "class S1:\n",
    "    a = 1"
   ]
  },
  {
   "cell_type": "code",
   "execution_count": 14,
   "id": "6cae13f4-2952-40f1-8aa5-323b224277a0",
   "metadata": {},
   "outputs": [
    {
     "data": {
      "text/plain": [
       "1"
      ]
     },
     "execution_count": 14,
     "metadata": {},
     "output_type": "execute_result"
    }
   ],
   "source": [
    "S1.a"
   ]
  },
  {
   "cell_type": "code",
   "execution_count": 15,
   "id": "d3e7644d-dc52-4cff-927b-eaa20b1dd9af",
   "metadata": {},
   "outputs": [],
   "source": [
    "S1.a = 2"
   ]
  },
  {
   "cell_type": "code",
   "execution_count": 16,
   "id": "9d9cc833-dcb7-4142-9005-d161e214b398",
   "metadata": {},
   "outputs": [
    {
     "data": {
      "text/plain": [
       "2"
      ]
     },
     "execution_count": 16,
     "metadata": {},
     "output_type": "execute_result"
    }
   ],
   "source": [
    "S1.a"
   ]
  },
  {
   "cell_type": "code",
   "execution_count": 17,
   "id": "8ea2a790-c415-425b-b868-3441b3dbb3b6",
   "metadata": {},
   "outputs": [],
   "source": [
    "x = S1()"
   ]
  },
  {
   "cell_type": "code",
   "execution_count": 18,
   "id": "cbc21bed-fa8c-4ac8-a1b8-77856d16d3eb",
   "metadata": {},
   "outputs": [
    {
     "data": {
      "text/plain": [
       "2"
      ]
     },
     "execution_count": 18,
     "metadata": {},
     "output_type": "execute_result"
    }
   ],
   "source": [
    "x.a # 위에서 S1.a = 2 구문을 통해 클래스 내부 값을 직접 변경했기 때문에 초기 값이 2로 출력"
   ]
  },
  {
   "cell_type": "code",
   "execution_count": 19,
   "id": "ae894fb0-7cf9-4650-a5a4-88b0dc80164e",
   "metadata": {},
   "outputs": [],
   "source": [
    "y = S1()"
   ]
  },
  {
   "cell_type": "code",
   "execution_count": 20,
   "id": "a8d35ef9-8ebe-406b-a728-a589311abdf2",
   "metadata": {},
   "outputs": [],
   "source": [
    "y.a = 100"
   ]
  },
  {
   "cell_type": "code",
   "execution_count": 21,
   "id": "0a160a54-debc-432f-916f-46037fa5fe93",
   "metadata": {},
   "outputs": [
    {
     "data": {
      "text/plain": [
       "100"
      ]
     },
     "execution_count": 21,
     "metadata": {},
     "output_type": "execute_result"
    }
   ],
   "source": [
    "y.a"
   ]
  },
  {
   "cell_type": "code",
   "execution_count": 22,
   "id": "c9115fa7-bba2-4381-ba89-6be7627e8815",
   "metadata": {},
   "outputs": [
    {
     "data": {
      "text/plain": [
       "2"
      ]
     },
     "execution_count": 22,
     "metadata": {},
     "output_type": "execute_result"
    }
   ],
   "source": [
    "x.a"
   ]
  },
  {
   "cell_type": "markdown",
   "id": "3dd85402-ff44-44a7-b6e7-cd5baa5b7cd7",
   "metadata": {},
   "source": [
    "\\# Class 별로 namespace는 독립적"
   ]
  },
  {
   "cell_type": "code",
   "execution_count": 23,
   "id": "6642d248-7de6-4776-96a3-dd3e0ebc188f",
   "metadata": {},
   "outputs": [],
   "source": [
    "a = []"
   ]
  },
  {
   "cell_type": "code",
   "execution_count": 24,
   "id": "622793d2-eb9a-47b7-9b1d-712a0bb146a5",
   "metadata": {},
   "outputs": [],
   "source": [
    "a.append(1)"
   ]
  },
  {
   "cell_type": "code",
   "execution_count": 25,
   "id": "41261976-aa9a-4026-a266-645da5d64816",
   "metadata": {},
   "outputs": [
    {
     "data": {
      "text/plain": [
       "1"
      ]
     },
     "execution_count": 25,
     "metadata": {},
     "output_type": "execute_result"
    }
   ],
   "source": [
    "# len() == __len__()\n",
    "len(a)"
   ]
  },
  {
   "cell_type": "code",
   "execution_count": 27,
   "id": "3bc33e3a-7ec9-455b-8dde-45b269c3d815",
   "metadata": {},
   "outputs": [
    {
     "data": {
      "text/plain": [
       "1"
      ]
     },
     "execution_count": 27,
     "metadata": {},
     "output_type": "execute_result"
    }
   ],
   "source": [
    "a.__len__()"
   ]
  },
  {
   "cell_type": "code",
   "execution_count": 28,
   "id": "911117f1-3197-48a5-874d-d1dab18045bf",
   "metadata": {},
   "outputs": [
    {
     "data": {
      "text/plain": [
       "[1, 2, 3]"
      ]
     },
     "execution_count": 28,
     "metadata": {},
     "output_type": "execute_result"
    }
   ],
   "source": [
    "# + == __add__()\n",
    "a + [2, 3]"
   ]
  },
  {
   "cell_type": "code",
   "execution_count": 29,
   "id": "85bbfef9-5f50-4e92-bf0c-0ca158d0657a",
   "metadata": {},
   "outputs": [
    {
     "data": {
      "text/plain": [
       "[1, 2, 3]"
      ]
     },
     "execution_count": 29,
     "metadata": {},
     "output_type": "execute_result"
    }
   ],
   "source": [
    "a.__add__([2, 3])"
   ]
  },
  {
   "cell_type": "code",
   "execution_count": 31,
   "id": "47b6cad8-8997-420b-bac3-1a540c69f839",
   "metadata": {},
   "outputs": [],
   "source": [
    "class A:\n",
    "    # 파이썬은 클래스 내부 사용자 함수 정의 시, 1번째 매개변수로 self를 선언해야함\n",
    "    # 오류는 나지 않아도 추후 함수를 호출하지 못하는 경우가 발생\n",
    "    def f(self):\n",
    "        pass"
   ]
  },
  {
   "cell_type": "code",
   "execution_count": 32,
   "id": "a5c50bb9-d951-4ec3-881a-2b28c3427370",
   "metadata": {},
   "outputs": [],
   "source": [
    "# B extend A\n",
    "class B(A):\n",
    "    pass"
   ]
  },
  {
   "cell_type": "code",
   "execution_count": 33,
   "id": "f721cc15-fc07-4024-be58-fc0a3ba07502",
   "metadata": {},
   "outputs": [],
   "source": [
    "b = B() # B에는 A의 내부 함수 f() 포함"
   ]
  },
  {
   "cell_type": "code",
   "execution_count": 34,
   "id": "9e468905-ea3d-471d-8b52-46b03d4682dd",
   "metadata": {},
   "outputs": [],
   "source": [
    "b.f()"
   ]
  },
  {
   "cell_type": "code",
   "execution_count": 35,
   "id": "b1a4f763-c023-48f9-a9d4-a1bfc2749768",
   "metadata": {},
   "outputs": [],
   "source": [
    "class Simple:\n",
    "    pass"
   ]
  },
  {
   "cell_type": "code",
   "execution_count": 36,
   "id": "114c8b7a-0e46-4284-9102-ef54f1c358f3",
   "metadata": {},
   "outputs": [],
   "source": [
    "s1 = Simple()\n",
    "s2 = Simple()"
   ]
  },
  {
   "cell_type": "code",
   "execution_count": 37,
   "id": "fbda4e0e-9a72-45d0-8a19-16e0b7aca221",
   "metadata": {},
   "outputs": [],
   "source": [
    "s1.stack = []"
   ]
  },
  {
   "cell_type": "code",
   "execution_count": 38,
   "id": "8fbfb2e4-e7ff-4d2f-a71d-b6952dbbc52f",
   "metadata": {},
   "outputs": [],
   "source": [
    "s1.stack.append(1); s1.stack.append(2); s1.stack.append(3)"
   ]
  },
  {
   "cell_type": "code",
   "execution_count": 39,
   "id": "bfef5576-d33d-44a5-9d3b-dd6ef7a2c30e",
   "metadata": {},
   "outputs": [
    {
     "data": {
      "text/plain": [
       "[1, 2, 3]"
      ]
     },
     "execution_count": 39,
     "metadata": {},
     "output_type": "execute_result"
    }
   ],
   "source": [
    "s1.stack"
   ]
  },
  {
   "cell_type": "code",
   "execution_count": 40,
   "id": "b683d68e-fde6-40ff-b3f1-a968d296a5f7",
   "metadata": {},
   "outputs": [
    {
     "ename": "AttributeError",
     "evalue": "'Simple' object has no attribute 'stack'",
     "output_type": "error",
     "traceback": [
      "\u001b[1;31m---------------------------------------------------------------------------\u001b[0m",
      "\u001b[1;31mAttributeError\u001b[0m                            Traceback (most recent call last)",
      "\u001b[1;32m<ipython-input-40-c3ee0a2b3490>\u001b[0m in \u001b[0;36m<module>\u001b[1;34m\u001b[0m\n\u001b[1;32m----> 1\u001b[1;33m \u001b[0ms2\u001b[0m\u001b[1;33m.\u001b[0m\u001b[0mstack\u001b[0m\u001b[1;33m\u001b[0m\u001b[1;33m\u001b[0m\u001b[0m\n\u001b[0m",
      "\u001b[1;31mAttributeError\u001b[0m: 'Simple' object has no attribute 'stack'"
     ]
    }
   ],
   "source": [
    "s2.stack # namespace가 독립적이기 때문에 s2에는 stack이 존재하지 않음"
   ]
  },
  {
   "cell_type": "code",
   "execution_count": 66,
   "id": "e125bf83-0359-4a6e-996d-e3b8262347b0",
   "metadata": {},
   "outputs": [],
   "source": [
    "class MyClass:\n",
    "    vvv = 1\n",
    "    def set(self, v):\n",
    "        self.value = v\n",
    "    def get(self):\n",
    "        return self.value\n",
    "    def get_2(self):\n",
    "        value = 1\n",
    "        return (value, self.value)\n",
    "    def get_3(self):\n",
    "        return self.vvv"
   ]
  },
  {
   "cell_type": "code",
   "execution_count": 67,
   "id": "ba1d165f-318f-4171-a0c4-a5bb4cc8574e",
   "metadata": {},
   "outputs": [],
   "source": [
    "c = MyClass()"
   ]
  },
  {
   "cell_type": "code",
   "execution_count": 68,
   "id": "d796ccdd-6ba3-4549-8e46-816641075a65",
   "metadata": {},
   "outputs": [],
   "source": [
    "c.set('egg')"
   ]
  },
  {
   "cell_type": "code",
   "execution_count": 63,
   "id": "0ecb4b3a-2e2f-40a2-864d-067b9473c3fc",
   "metadata": {},
   "outputs": [
    {
     "data": {
      "text/plain": [
       "'egg'"
      ]
     },
     "execution_count": 63,
     "metadata": {},
     "output_type": "execute_result"
    }
   ],
   "source": [
    "c.get()"
   ]
  },
  {
   "cell_type": "code",
   "execution_count": 69,
   "id": "50dd7835-b499-4277-aff1-c7b99ce03683",
   "metadata": {},
   "outputs": [
    {
     "data": {
      "text/plain": [
       "(1, 'egg')"
      ]
     },
     "execution_count": 69,
     "metadata": {},
     "output_type": "execute_result"
    }
   ],
   "source": [
    "c.get_2() # value는 get_2 내부의 지역변수, self.value는 MyClass 전역변수"
   ]
  },
  {
   "cell_type": "code",
   "execution_count": 70,
   "id": "a7882c13-d546-45a7-a501-94798340f387",
   "metadata": {},
   "outputs": [
    {
     "data": {
      "text/plain": [
       "1"
      ]
     },
     "execution_count": 70,
     "metadata": {},
     "output_type": "execute_result"
    }
   ],
   "source": [
    "c.get_3() # 클래스 전역변수 선언 시, vvv에는 self 키워드를 붙이지 않아도 된다."
   ]
  },
  {
   "cell_type": "code",
   "execution_count": 71,
   "id": "774b787b-f294-4b85-9d08-673e3c2733e2",
   "metadata": {},
   "outputs": [],
   "source": [
    "class MyClass2:\n",
    "    def set(self, v):\n",
    "        self.value = v\n",
    "    def get(self):\n",
    "        return self.value\n",
    "    def incr(self):\n",
    "        self.value += 1\n",
    "        return self.get()"
   ]
  },
  {
   "cell_type": "code",
   "execution_count": 72,
   "id": "208e8721-6e66-421e-9885-5013b807daa5",
   "metadata": {},
   "outputs": [],
   "source": [
    "d = MyClass2()"
   ]
  },
  {
   "cell_type": "code",
   "execution_count": 73,
   "id": "f9d361f0-66a8-4827-ac11-01ccba654bd5",
   "metadata": {},
   "outputs": [],
   "source": [
    "d.set(5)"
   ]
  },
  {
   "cell_type": "code",
   "execution_count": 74,
   "id": "af6f4276-9d91-4110-a3ab-e97db5e575ad",
   "metadata": {},
   "outputs": [
    {
     "data": {
      "text/plain": [
       "5"
      ]
     },
     "execution_count": 74,
     "metadata": {},
     "output_type": "execute_result"
    }
   ],
   "source": [
    "d.get()"
   ]
  },
  {
   "cell_type": "code",
   "execution_count": 75,
   "id": "6f89b110-67dc-442a-bdce-7f145f0eb8dd",
   "metadata": {},
   "outputs": [
    {
     "data": {
      "text/plain": [
       "6"
      ]
     },
     "execution_count": 75,
     "metadata": {},
     "output_type": "execute_result"
    }
   ],
   "source": [
    "d.incr()"
   ]
  },
  {
   "cell_type": "code",
   "execution_count": 87,
   "id": "e001c818-75c0-46ed-8a80-c130b6a261e7",
   "metadata": {},
   "outputs": [],
   "source": [
    "from time import ctime\n",
    "class Income:\n",
    "    def __init__(self, price, tax):\n",
    "        self.price = price\n",
    "        self.tax = tax\n",
    "    def calc(self):\n",
    "        self.after_tax = self.price - (self.price * self.tax * 0.01)\n",
    "    def display(self):\n",
    "        print(f'수입 : {self.price}')\n",
    "        print(f'세율 : {self.tax}')\n",
    "        print(f'세후 : {self.after_tax}')\n",
    "    # class가 메모리에서 해제될 때 호출(사용 빈도가 높지는 않음)\n",
    "    # ctime() 현재 시간 호출\n",
    "    def __del__(self):\n",
    "        print('메모리에서 삭제되었습니다.', ctime())"
   ]
  },
  {
   "cell_type": "code",
   "execution_count": 79,
   "id": "9730e3ed-2498-4b59-aaf4-31370175a67a",
   "metadata": {},
   "outputs": [
    {
     "ename": "TypeError",
     "evalue": "__init__() missing 2 required positional arguments: 'price' and 'tax'",
     "output_type": "error",
     "traceback": [
      "\u001b[1;31m---------------------------------------------------------------------------\u001b[0m",
      "\u001b[1;31mTypeError\u001b[0m                                 Traceback (most recent call last)",
      "\u001b[1;32m<ipython-input-79-395676123074>\u001b[0m in \u001b[0;36m<module>\u001b[1;34m\u001b[0m\n\u001b[1;32m----> 1\u001b[1;33m \u001b[0mobj1\u001b[0m \u001b[1;33m=\u001b[0m \u001b[0mIncome\u001b[0m\u001b[1;33m(\u001b[0m\u001b[1;33m)\u001b[0m \u001b[1;31m# 초기화 메소드의 파라미터를 지키지 않아 오류 발생\u001b[0m\u001b[1;33m\u001b[0m\u001b[1;33m\u001b[0m\u001b[0m\n\u001b[0m",
      "\u001b[1;31mTypeError\u001b[0m: __init__() missing 2 required positional arguments: 'price' and 'tax'"
     ]
    }
   ],
   "source": [
    "obj1 = Income() # 초기화 메소드의 파라미터를 지키지 않아 오류 발생"
   ]
  },
  {
   "cell_type": "code",
   "execution_count": 89,
   "id": "12755a3a-ae82-459a-afa9-5c9ca78f3a6d",
   "metadata": {},
   "outputs": [],
   "source": [
    "obj1 = Income(2500000, 4.4)"
   ]
  },
  {
   "cell_type": "code",
   "execution_count": 90,
   "id": "75ba272c-bcd4-4b94-880a-500813b94b2e",
   "metadata": {},
   "outputs": [],
   "source": [
    "obj1.calc()"
   ]
  },
  {
   "cell_type": "code",
   "execution_count": 91,
   "id": "6f92b08c-a487-4dc6-b3da-575aa2cc26d1",
   "metadata": {},
   "outputs": [
    {
     "name": "stdout",
     "output_type": "stream",
     "text": [
      "수입 : 2500000\n",
      "세율 : 4.4\n",
      "세후 : 2390000.0\n"
     ]
    }
   ],
   "source": [
    "obj1.display()"
   ]
  },
  {
   "cell_type": "code",
   "execution_count": 92,
   "id": "883a912d-8a27-468e-a18c-24b5b3940936",
   "metadata": {},
   "outputs": [
    {
     "name": "stdout",
     "output_type": "stream",
     "text": [
      "메모리에서 삭제되었습니다. Mon Sep 13 11:39:03 2021\n"
     ]
    }
   ],
   "source": [
    "del obj1"
   ]
  },
  {
   "cell_type": "code",
   "execution_count": 93,
   "id": "3615667b-9570-4070-9c9f-eca3e29c5203",
   "metadata": {},
   "outputs": [],
   "source": [
    "class Var:\n",
    "    c_mem = 100 # 클래스 멤버(모든 인스턴스에서 공유)\n",
    "    def f(self):\n",
    "        self.i_mem = 200 # 인스턴스 멤버(인스턴스 내에서 공유)\n",
    "    def g(self):\n",
    "        return self.i_mem, self.c_mem"
   ]
  },
  {
   "cell_type": "code",
   "execution_count": 94,
   "id": "1fddf644-9eb6-4232-9d00-2b7db1bd95be",
   "metadata": {},
   "outputs": [
    {
     "data": {
      "text/plain": [
       "100"
      ]
     },
     "execution_count": 94,
     "metadata": {},
     "output_type": "execute_result"
    }
   ],
   "source": [
    "Var.c_mem"
   ]
  },
  {
   "cell_type": "code",
   "execution_count": 95,
   "id": "0844ffb9-a103-4212-8427-507755f3fbd9",
   "metadata": {},
   "outputs": [],
   "source": [
    "v1 = Var()"
   ]
  },
  {
   "cell_type": "code",
   "execution_count": 96,
   "id": "4aa5ab3e-9edb-4515-b2ff-eb46a8bd0023",
   "metadata": {},
   "outputs": [
    {
     "data": {
      "text/plain": [
       "100"
      ]
     },
     "execution_count": 96,
     "metadata": {},
     "output_type": "execute_result"
    }
   ],
   "source": [
    "v1.c_mem"
   ]
  },
  {
   "cell_type": "code",
   "execution_count": 97,
   "id": "4539d8b8-3d49-4a84-a1ca-4072769c21bc",
   "metadata": {},
   "outputs": [],
   "source": [
    "v1.c_mem = 101"
   ]
  },
  {
   "cell_type": "code",
   "execution_count": 98,
   "id": "8a32df4a-a163-4fa2-891d-72427235bfe5",
   "metadata": {},
   "outputs": [
    {
     "data": {
      "text/plain": [
       "100"
      ]
     },
     "execution_count": 98,
     "metadata": {},
     "output_type": "execute_result"
    }
   ],
   "source": [
    "Var.c_mem"
   ]
  },
  {
   "cell_type": "code",
   "execution_count": 99,
   "id": "6fef66b4-df67-4048-847b-23218125b612",
   "metadata": {},
   "outputs": [
    {
     "data": {
      "text/plain": [
       "101"
      ]
     },
     "execution_count": 99,
     "metadata": {},
     "output_type": "execute_result"
    }
   ],
   "source": [
    "v1.c_mem"
   ]
  },
  {
   "cell_type": "code",
   "execution_count": 100,
   "id": "ad75bac7-a0c4-41ac-a8df-876545918088",
   "metadata": {},
   "outputs": [],
   "source": [
    "v1.f()"
   ]
  },
  {
   "cell_type": "code",
   "execution_count": 101,
   "id": "b3adf00f-3a5d-48f3-bbb7-1de44670d28a",
   "metadata": {},
   "outputs": [],
   "source": [
    "v2 = Var()"
   ]
  },
  {
   "cell_type": "code",
   "execution_count": 102,
   "id": "07ce5900-664f-4ea1-bc70-a7765a960543",
   "metadata": {},
   "outputs": [
    {
     "data": {
      "text/plain": [
       "100"
      ]
     },
     "execution_count": 102,
     "metadata": {},
     "output_type": "execute_result"
    }
   ],
   "source": [
    "v2.c_mem"
   ]
  },
  {
   "cell_type": "code",
   "execution_count": 103,
   "id": "33700e82-141d-43f1-b499-6cdeebf1b2f5",
   "metadata": {},
   "outputs": [],
   "source": [
    "Var.c_mem = 123"
   ]
  },
  {
   "cell_type": "code",
   "execution_count": 105,
   "id": "84bd0579-c252-4976-9635-8f7227027eef",
   "metadata": {},
   "outputs": [
    {
     "data": {
      "text/plain": [
       "101"
      ]
     },
     "execution_count": 105,
     "metadata": {},
     "output_type": "execute_result"
    }
   ],
   "source": [
    "v1.c_mem"
   ]
  },
  {
   "cell_type": "code",
   "execution_count": 106,
   "id": "d7d910f4-4433-43e7-aecc-ae82599ba9b1",
   "metadata": {},
   "outputs": [
    {
     "data": {
      "text/plain": [
       "123"
      ]
     },
     "execution_count": 106,
     "metadata": {},
     "output_type": "execute_result"
    }
   ],
   "source": [
    "v2.c_mem"
   ]
  },
  {
   "cell_type": "markdown",
   "id": "539de65b-c609-40bd-ad54-695d143d3d4a",
   "metadata": {},
   "source": [
    "\\# 인스턴스 생성 후, c_mem의 값을 별도로 핸들링 하지 않으면 클래스 멤버를 참조한다.  \n",
    "\\# 그러나 1회 이상 수정한 경우 인스턴스 멤버가 생성, 클래스 멤버 전에 호출되어 두 변수의 호출 결과가 다르게 된다."
   ]
  },
  {
   "cell_type": "markdown",
   "id": "bb210c85-a33f-48a4-96d2-7ae2d770007e",
   "metadata": {},
   "source": [
    "# 상속"
   ]
  },
  {
   "cell_type": "code",
   "execution_count": 124,
   "id": "27607076-7910-478d-922b-03c5d1a8ccc8",
   "metadata": {},
   "outputs": [],
   "source": [
    "class Person:\n",
    "    def __init__(self, name, phone = None):\n",
    "        self.name = name\n",
    "        self.phone = phone\n",
    "    def __repr__(self):\n",
    "        return '<Person {} {}>'.format(self.name, self.phone)"
   ]
  },
  {
   "cell_type": "code",
   "execution_count": 121,
   "id": "5195feb7-9088-4a02-b9bf-c2c4a535672a",
   "metadata": {},
   "outputs": [],
   "source": [
    "class Employee(Person):\n",
    "    def __init__(self, name, phone, position, salary):\n",
    "        super().__init(name, phone)\n",
    "        self.position = position\n",
    "        self.salary = salary"
   ]
  },
  {
   "cell_type": "code",
   "execution_count": 126,
   "id": "02846433-3575-4f76-aee8-0c2dd2541089",
   "metadata": {},
   "outputs": [],
   "source": [
    "s1 = Person('Mark', '010-2222-3333')"
   ]
  },
  {
   "cell_type": "code",
   "execution_count": 127,
   "id": "7a550e78-ee46-46cb-8cdb-cf9b8b9d99ca",
   "metadata": {},
   "outputs": [
    {
     "name": "stdout",
     "output_type": "stream",
     "text": [
      "<Person Mark 010-2222-3333>\n"
     ]
    }
   ],
   "source": [
    "print(s1)"
   ]
  },
  {
   "cell_type": "code",
   "execution_count": null,
   "id": "d5c6cb6a-095e-4aea-8bbc-55fb62027955",
   "metadata": {},
   "outputs": [],
   "source": [
    "m1 = Employee()"
   ]
  },
  {
   "cell_type": "markdown",
   "id": "a1513882-6af4-4a8d-8559-11b17a52514f",
   "metadata": {},
   "source": [
    "# 데코레이터, 클로저"
   ]
  },
  {
   "cell_type": "code",
   "execution_count": 137,
   "id": "a8fd5cb7-0d74-4f9c-b63c-7bfe11d88e60",
   "metadata": {},
   "outputs": [],
   "source": [
    "def click(func):\n",
    "    n = 0\n",
    "    def count_click():\n",
    "        nonlocal n\n",
    "        n += 1\n",
    "        func(n)\n",
    "        return n\n",
    "    return count_click"
   ]
  },
  {
   "cell_type": "code",
   "execution_count": 129,
   "id": "568ae696-1770-4b41-b1f9-abef63758b6a",
   "metadata": {},
   "outputs": [],
   "source": [
    "def hello(cnt):\n",
    "    print('본 사이트에 {}번째 방문을 환영합니다.'.format(cnt))"
   ]
  },
  {
   "cell_type": "code",
   "execution_count": 138,
   "id": "eea7f8af-3f8b-41dc-8cbc-7fb1c4111e45",
   "metadata": {},
   "outputs": [],
   "source": [
    "a3 = click(hello)"
   ]
  },
  {
   "cell_type": "code",
   "execution_count": 140,
   "id": "f9aae5de-bc92-4e54-be76-692b0ec03959",
   "metadata": {},
   "outputs": [
    {
     "name": "stdout",
     "output_type": "stream",
     "text": [
      "본 사이트에 1번째 방문을 환영합니다.\n"
     ]
    },
    {
     "data": {
      "text/plain": [
       "1"
      ]
     },
     "execution_count": 140,
     "metadata": {},
     "output_type": "execute_result"
    }
   ],
   "source": [
    "a3() # 클로저 예제"
   ]
  },
  {
   "cell_type": "code",
   "execution_count": 142,
   "id": "d5f4296d-d18e-4847-891f-665bb25de1d8",
   "metadata": {},
   "outputs": [
    {
     "name": "stdout",
     "output_type": "stream",
     "text": [
      "<class 'function'>\n"
     ]
    }
   ],
   "source": [
    "print(type(a3))"
   ]
  },
  {
   "cell_type": "code",
   "execution_count": 146,
   "id": "79d3155e-17f6-49e3-a828-0f3e4f67c816",
   "metadata": {},
   "outputs": [],
   "source": [
    "# 데코레이터 @ + '사용할 함수명'\n",
    "@click\n",
    "def hello2(cnt):\n",
    "    print('Hello2 함수입니다. {}번째 방문을 환영합니다.'.format(cnt))"
   ]
  },
  {
   "cell_type": "code",
   "execution_count": 151,
   "id": "9b018b02-d0d9-4c4a-984a-769cff8c4e09",
   "metadata": {},
   "outputs": [
    {
     "name": "stdout",
     "output_type": "stream",
     "text": [
      "Hello2 함수입니다. 5번째 방문을 환영합니다.\n"
     ]
    },
    {
     "data": {
      "text/plain": [
       "5"
      ]
     },
     "execution_count": 151,
     "metadata": {},
     "output_type": "execute_result"
    }
   ],
   "source": [
    "hello2()"
   ]
  },
  {
   "cell_type": "code",
   "execution_count": 153,
   "id": "2eaf352e-bc0b-4f8e-a05b-b99215f7fee3",
   "metadata": {},
   "outputs": [],
   "source": [
    "import requests\n",
    "import pandas as pd"
   ]
  },
  {
   "cell_type": "code",
   "execution_count": 163,
   "id": "1d1988dd-0aaa-466e-9e71-30ddbda05a54",
   "metadata": {},
   "outputs": [],
   "source": [
    "class MyUtil:\n",
    "    @staticmethod\n",
    "    # staticmethod 선언 시, self를 파라미터에 포함하면 오류 발생\n",
    "    def exchange(currency = \"usd\", date_ = \"2021-07-23\"):\n",
    "        url = \"https://kebhana.com/cms/rate/wpfxd651_01i_01.do\"\n",
    "        payload = {\"ajax\": \"true\",\n",
    "                \"curCd\": \"\",\n",
    "                \"tmpInqStrDt\": \"2021-09-06\",\n",
    "                \"pbldDvCd\": \"0\",\n",
    "                \"pbldSqn\": \"\",\n",
    "                \"hid_key_data\": \"\",\n",
    "                \"inqStrDt\": \"20210906\",\n",
    "                \"inqKindCd\": \"1\",\n",
    "                \"hid_enc_data\": \"\",\n",
    "                \"requestTarget\": \"searchContentDiv\"}\n",
    "        payload['tmpInqStrDt'] = date_\n",
    "        payload['inqStrDt'] = date_.replace(\"-\", \"\")\n",
    "        r = requests.post(url, data=payload)\n",
    "        a = pd.read_html(r.text)[0]\n",
    "        a.columns = [\"_\".join(set(x)) for x in a.columns]\n",
    "        return a[a['통화'].str.contains(currency.upper())]['매매기준율'].values[0]"
   ]
  },
  {
   "cell_type": "code",
   "execution_count": 154,
   "id": "014c9234-2742-46bc-ae49-166fc80f910f",
   "metadata": {},
   "outputs": [],
   "source": [
    "a1 = MyUtil()"
   ]
  },
  {
   "cell_type": "code",
   "execution_count": 155,
   "id": "6eaf8643-11ee-4d9a-83ae-eff4b5be50a1",
   "metadata": {},
   "outputs": [
    {
     "data": {
      "text/plain": [
       "1175.7"
      ]
     },
     "execution_count": 155,
     "metadata": {},
     "output_type": "execute_result"
    }
   ],
   "source": [
    "a1.exchange(date_ = '2021-09-13')"
   ]
  },
  {
   "cell_type": "code",
   "execution_count": 164,
   "id": "7f873d24-6f72-42ad-9481-84972a6eb089",
   "metadata": {},
   "outputs": [
    {
     "data": {
      "text/plain": [
       "1151.5"
      ]
     },
     "execution_count": 164,
     "metadata": {},
     "output_type": "execute_result"
    }
   ],
   "source": [
    "MyUtil.exchange()"
   ]
  },
  {
   "cell_type": "code",
   "execution_count": 167,
   "id": "aed37398-ff5a-4fae-b74f-8ed6ac39cc80",
   "metadata": {},
   "outputs": [],
   "source": [
    "class MyUtil2:\n",
    "    @classmethod\n",
    "    # classmethod 선언 시, cls를 첫번째 파라미터로 전달\n",
    "    def exchange(cls, currency = \"usd\", date_ = \"2021-07-23\"):\n",
    "        url = \"https://kebhana.com/cms/rate/wpfxd651_01i_01.do\"\n",
    "        payload = {\"ajax\": \"true\",\n",
    "                \"curCd\": \"\",\n",
    "                \"tmpInqStrDt\": \"2021-09-06\",\n",
    "                \"pbldDvCd\": \"0\",\n",
    "                \"pbldSqn\": \"\",\n",
    "                \"hid_key_data\": \"\",\n",
    "                \"inqStrDt\": \"20210906\",\n",
    "                \"inqKindCd\": \"1\",\n",
    "                \"hid_enc_data\": \"\",\n",
    "                \"requestTarget\": \"searchContentDiv\"}\n",
    "        payload['tmpInqStrDt'] = date_\n",
    "        payload['inqStrDt'] = date_.replace(\"-\", \"\")\n",
    "        r = requests.post(url, data=payload)\n",
    "        a = pd.read_html(r.text)[0]\n",
    "        a.columns = [\"_\".join(set(x)) for x in a.columns]\n",
    "        return a[a['통화'].str.contains(currency.upper())]['매매기준율'].values[0]"
   ]
  },
  {
   "cell_type": "code",
   "execution_count": 168,
   "id": "b4f505b4-ae6d-460b-af57-1c905096ee83",
   "metadata": {},
   "outputs": [
    {
     "data": {
      "text/plain": [
       "1151.5"
      ]
     },
     "execution_count": 168,
     "metadata": {},
     "output_type": "execute_result"
    }
   ],
   "source": [
    "MyUtil2.exchange()"
   ]
  }
 ],
 "metadata": {
  "kernelspec": {
   "display_name": "Python 3",
   "language": "python",
   "name": "python3"
  },
  "language_info": {
   "codemirror_mode": {
    "name": "ipython",
    "version": 3
   },
   "file_extension": ".py",
   "mimetype": "text/x-python",
   "name": "python",
   "nbconvert_exporter": "python",
   "pygments_lexer": "ipython3",
   "version": "3.8.8"
  }
 },
 "nbformat": 4,
 "nbformat_minor": 5
}
