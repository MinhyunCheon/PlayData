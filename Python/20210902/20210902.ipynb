{
 "cells": [
  {
   "cell_type": "markdown",
   "id": "d553c263-c773-4d5c-a0e5-8fd4fb43ab04",
   "metadata": {},
   "source": [
    "# 최대값의 위치를 구하는 함수 작성"
   ]
  },
  {
   "cell_type": "code",
   "execution_count": 6,
   "id": "3efa8d55-2ebc-484a-8f62-a654354104d7",
   "metadata": {},
   "outputs": [
    {
     "data": {
      "text/plain": [
       "9"
      ]
     },
     "execution_count": 6,
     "metadata": {},
     "output_type": "execute_result"
    }
   ],
   "source": [
    "list = [1,2,3,4,4,6,123,4,5,645,3]\n",
    "def SearchIndex(data_list):\n",
    "    return data_list.index(max(data_list))\n",
    "SearchIndex(list)"
   ]
  },
  {
   "cell_type": "markdown",
   "id": "69f1853c-472d-495b-b197-01eff5f8fc5b",
   "metadata": {},
   "source": [
    "# random"
   ]
  },
  {
   "cell_type": "code",
   "execution_count": 2,
   "id": "9f4e0cdd-4e9f-4f1c-9359-5c293b8400ee",
   "metadata": {},
   "outputs": [
    {
     "name": "stdout",
     "output_type": "stream",
     "text": [
      "0\n",
      "1\n",
      "2\n",
      "3\n",
      "4\n",
      "5\n",
      "6\n",
      "7\n",
      "8\n",
      "9\n"
     ]
    }
   ],
   "source": [
    "import random\n",
    "import time\n",
    "\n",
    "for x in range(10):\n",
    "    time.sleep(random.random())\n",
    "    print(x)"
   ]
  },
  {
   "cell_type": "code",
   "execution_count": 13,
   "id": "1d34cbe2-ab82-420b-8979-11092e16c42e",
   "metadata": {},
   "outputs": [
    {
     "data": {
      "text/plain": [
       "188.36346926454485"
      ]
     },
     "execution_count": 13,
     "metadata": {},
     "output_type": "execute_result"
    }
   ],
   "source": [
    "random.uniform(1, 200) # 설정한 범위 안에서 랜덤 값 출력"
   ]
  },
  {
   "cell_type": "code",
   "execution_count": 15,
   "id": "c04d5ee2-2325-4ff3-8421-ddfcde52a51f",
   "metadata": {},
   "outputs": [
    {
     "data": {
      "text/plain": [
       "8"
      ]
     },
     "execution_count": 15,
     "metadata": {},
     "output_type": "execute_result"
    }
   ],
   "source": [
    "random.randint(1, 10) # 설장한 범위 안에서 랜덤 정수 값 출력"
   ]
  },
  {
   "cell_type": "markdown",
   "id": "275996ce-84eb-4d15-9ddd-892282e877f2",
   "metadata": {},
   "source": [
    "# pickle\n",
    "* 0과 1로 저장된 파일(디코딩 없이 사람이 읽을 수 없음)"
   ]
  },
  {
   "cell_type": "code",
   "execution_count": 3,
   "id": "d94b74cf-fec9-4ee0-8247-0fd6caa946c4",
   "metadata": {},
   "outputs": [
    {
     "name": "stdout",
     "output_type": "stream",
     "text": [
      "[('나', 28), ('다', 31), ('가', 41)]\n"
     ]
    }
   ],
   "source": [
    "import pickle\n",
    "with open(\"./leader.pkl\", \"wb\") as f:\n",
    "    pickle.dump([random.choice([\"가\",\"나\",\"다\"]) for x in range(100)], f)\n",
    "with open(\"./leader.pkl\", \"rb\") as f:\n",
    "    lead = pickle.load(f)\n",
    "    \n",
    "count_dict = dict()\n",
    "for x in lead:\n",
    "    if x in count_dict:\n",
    "        count_dict[x] += 1\n",
    "    else: count_dict[x] = 1\n",
    "    \n",
    "#from operator import itemgetter # operator 아래 itemgetter import\n",
    "import operator\n",
    "print(sorted(count_dict.items(), key=operator.itemgetter(1))) # dict 정렬"
   ]
  },
  {
   "cell_type": "markdown",
   "id": "9111e701-6e26-4ffc-adaa-ddd439674599",
   "metadata": {},
   "source": [
    "# 폴더의 파일 리스트"
   ]
  },
  {
   "cell_type": "code",
   "execution_count": 5,
   "id": "1e61e968-5ed4-4825-9d61-1860326a4de3",
   "metadata": {},
   "outputs": [],
   "source": [
    "import os\n",
    "os.getcwd()\n",
    "os.mkdir(\"./melon\")"
   ]
  },
  {
   "cell_type": "markdown",
   "id": "c61f5c1a-587c-4aa9-80a7-2263b8f671a5",
   "metadata": {},
   "source": [
    "* 가수명 폴더 생성\n",
    "* 네이밍룰 가수-제목.txt"
   ]
  },
  {
   "cell_type": "code",
   "execution_count": 184,
   "id": "d5264f4c-eb68-4041-b86a-ae24927c956f",
   "metadata": {},
   "outputs": [],
   "source": [
    "import requests\n",
    "from bs4 import BeautifulSoup\n",
    "head = {\n",
    "    'user-agent': \n",
    "    \"Mozilla/5.0 (Windows NT 10.0; Win64; x64) AppleWebKit/537.36 (KHTML, like Gecko) Chrome/92.0.4515.159 Safari/537.36 Edg/92.0.902.84\"\n",
    "}\n",
    "target_url = \"https://www.melon.com/chart/index.htm\"\n",
    "r = requests.get(target_url, headers=head)"
   ]
  },
  {
   "cell_type": "code",
   "execution_count": 185,
   "id": "85a9d309-3233-44d3-88f1-f879c88436d4",
   "metadata": {},
   "outputs": [
    {
     "data": {
      "text/plain": [
       "200"
      ]
     },
     "execution_count": 185,
     "metadata": {},
     "output_type": "execute_result"
    }
   ],
   "source": [
    "r.status_code"
   ]
  },
  {
   "cell_type": "code",
   "execution_count": 186,
   "id": "e583b893-e91a-4519-a4b0-3888ed33f653",
   "metadata": {},
   "outputs": [],
   "source": [
    "bs = BeautifulSoup(r.text)\n",
    "bs_rt = bs.findAll(\"span\", class_ = \"checkEllipsis\") # 폴더 생성부터 실습한 후 가사 수집을 하려 했으나 접근 계획이 잘못됨"
   ]
  },
  {
   "cell_type": "code",
   "execution_count": 187,
   "id": "a8878b8d-ae7c-47d1-91e5-1cc3569eb022",
   "metadata": {},
   "outputs": [
    {
     "data": {
      "text/plain": [
       "<span class=\"checkEllipsis\" style=\"display:none\"><a href=\"javascript:melon.link.goArtistDetail('2743730');\" title=\"The Kid LAROI - 페이지 이동\">The Kid LAROI</a>, <a href=\"javascript:melon.link.goArtistDetail('420621');\" title=\"Justin Bieber - 페이지 이동\">Justin Bieber</a></span>"
      ]
     },
     "execution_count": 187,
     "metadata": {},
     "output_type": "execute_result"
    }
   ],
   "source": [
    "bs_rt[0]"
   ]
  },
  {
   "cell_type": "code",
   "execution_count": 190,
   "id": "7f003e3d-803f-4c52-bf92-cb419ceca967",
   "metadata": {},
   "outputs": [
    {
     "name": "stdout",
     "output_type": "stream",
     "text": [
      "<a class=\"btn button_icons type03 song_info\" href=\"javascript:melon.link.goSongDetail('33658563');\" title=\"STAY 곡정보\"><span class=\"none\">곡정보</span></a>\n"
     ]
    }
   ],
   "source": [
    "bs_rt2 = bs.findAll(\"a\", class_ = \"btn button_icons type03 song_info\")\n",
    "print(bs_rt2[0])"
   ]
  },
  {
   "cell_type": "code",
   "execution_count": 189,
   "id": "fc0a4986-0892-4c69-9706-c1d3f77c2dca",
   "metadata": {},
   "outputs": [],
   "source": [
    "# 폴더 생성 로직\n",
    "str = \"\"\n",
    "count = 0\n",
    "for x in bs_rt:\n",
    "    y = x.findChildren(\"a\")\n",
    "    for data in y:\n",
    "        if count != 0: str += \", \"\n",
    "        str += data['title'][0:data['title'].find(' -')]\n",
    "        count += 1\n",
    "    if not os.path.isdir(\"./melon/\" + str):\n",
    "        os.mkdir('./melon/' + str)\n",
    "    count = 0\n",
    "    str = \"\"\n",
    "    \n"
   ]
  },
  {
   "cell_type": "code",
   "execution_count": 2,
   "id": "c9f5ade1-c32e-4e4d-b58b-1e15a1df2eec",
   "metadata": {},
   "outputs": [],
   "source": [
    "########\n",
    "# import 파이썬에서 제공되는 기능을 사용하기 위해 선언\n",
    "# 가독성을 높이기 위해 상단에 모아서 선언\n",
    "import os\n",
    "import requests\n",
    "import re\n",
    "from bs4 import BeautifulSoup\n",
    "########\n",
    "\n",
    "# 현재 폴더에 melon 폴더가 있는지 확인 후 없으면 생성\n",
    "# 폴더가 존재하는데 생성을 시도하는 경우 오류 발생\n",
    "if not os.path.isdir(\"./melon\"): os.mkdir(\"./melon\")\n",
    "\n",
    "# 웹 페이지 접근 시, head 부분에 사용자의 정보가 기록되어 서버에 전송\n",
    "# 파이썬으로 접근 시, 데이터 조회를 막는 경우를 우회하기 위해 일반 사용자 브라우저인 것처럼 서버에 전달\n",
    "head = {\n",
    "    'user-agent': \n",
    "    \"Mozilla/5.0 (Windows NT 10.0; Win64; x64) AppleWebKit/537.36 (KHTML, like Gecko) Chrome/92.0.4515.159 Safari/537.36 Edg/92.0.902.84\"\n",
    "}\n",
    "target_url = \"https://www.melon.com/chart/index.htm\" # 브라우저 주소창에 보이는 멜론 차트 실제 주소\n",
    "\n",
    "r = requests.get(target_url, headers=head) # 위에 만든 head와 url을 활용해 접속 후 데이터를 r에 저장\n",
    "bs = BeautifulSoup(r.text) # BeautifulSoup을 통해 데이터에 접근하기 쉽게 변형\n",
    "\n",
    "# <a class = \"btn button_icons type03 song_info\".. a 태그와 해당 클래스 명을 가진 모든 요소를 반환\n",
    "# 크롬 개발자 도구(f12)를 통해 확인 가능\n",
    "bs_rt = bs.findAll(\"a\", class_ = \"btn button_icons type03 song_info\")\n",
    "\n",
    "\n",
    "for x in bs_rt:\n",
    "    # 곡 상세정보에 접근\n",
    "    # 방식은 위와 동일\n",
    "    # https://www.melon.com/song/detail.htm?songId=33658563\n",
    "    r2 = requests.get(\"https://www.melon.com/song/detail.htm?songId=\" + re.findall(\"\\d+\", x['href'])[0], headers=head)\n",
    "    bs2 = BeautifulSoup(r2.text)\n",
    "    bs_rt2 = bs2.findAll(\"a\", class_ = \"artist_name\")\n",
    "    \n",
    "    # 폴더 생성 로직\n",
    "\n",
    "    # \", \"를 찍을 위치를 구분하기 위해 count 변수 선언\n",
    "    # 아티스트는 2명 이상이 될 수 있고, 첫번째 아티스트의 이름 앞에는 \", \"를 출력하면 안되기 때문에 사용\n",
    "    count = 0 \n",
    "    str = \"\" # 이름 저장용 변수\n",
    "    for a_name in bs_rt2:\n",
    "        # 조회된 데이터에 빈 값(None)이 포함되어 조건문을 통해 None이 아닌 경우에만 이후 로직 실행\n",
    "        if a_name.find(\"span\") is not None:\n",
    "            if count != 0: str += \", \" # count가 0이 아닌 경우(첫번째가 아닌 경우)에만 \", \"를 이름 앞에 출력\n",
    "            str += a_name.find(\"span\").text # str에 이름 저장\n",
    "            \n",
    "            # 실행 후 count 값 1 증가(아티스트가 3명인 경우 로직 완료후 count 값은 3, 뒤가 아닌 앞에 \", \"를 붙이기 때문에 마지막 아티스트는 고려하지 않음)\n",
    "            # 해당 반복문이 종료되는 시점에는 count의 값이 0보다 크지만, 첫번째 곡을 저장한 뒤 제일 처음 반복문부터 다시 시작하기 때문에 count = 0이 다시 선언되므로 값이 0으로 초기화\n",
    "            count += 1\n",
    "    \n",
    "    # 위 로직의 실행으로 STAY의 아티스트 명은 str에 \"The Kid LAROI, Justin Bieber\"로 저장되어 있는 상태\n",
    "    if not os.path.isdir(\"./melon/\" + str): # melon 폴더 아래 str을 합친 디렉토리(./melon/The Kid LAROI, Justin Bieber)가 있는지 확인 후 없는 경우 생성\n",
    "        os.mkdir('./melon/' + str)\n",
    "        \n",
    "    # 가사 파일 생성 로직\n",
    "    bs_rt2 = bs2.find(\"div\", class_ = \"song_name\")\n",
    "    song_name = bs_rt2.text.replace(\"곡명\", \"\").strip()\n",
    "    \n",
    "    # 가사 저장\n",
    "    bs_rt2 = bs2.find(\"div\", class_ = \"lyric\")\n",
    "#     content = bs_rt2.text.strip() # 개행 문자가 제거되어 가사 변형 발생\n",
    "#     content = bs_rt2.get_text(separator='|br|', strip=True).split('|br|') # 배열로 반환되어 추가 작업이 필요\n",
    "    content = bs_rt2.get_text(separator='|br|', strip=True).replace('|br|', \" \")\n",
    "#     content = BeautifulSoup(str(bs_rt2).replace(\"<br/>\", \"\\n\")).text.strip() # 강사님 로직 수정 적용 필요\n",
    "\n",
    "    \n",
    "    with open(\"./melon/\" + str + \"/\" + song_name + \".txt\", \"w\", encoding=\"utf-8\") as f: # 파일 생성\n",
    "        f.write(content)"
   ]
  },
  {
   "cell_type": "code",
   "execution_count": 2,
   "id": "edce67a3-cfc4-4cee-b0a1-58ca1fa14f13",
   "metadata": {},
   "outputs": [
    {
     "data": {
      "text/plain": [
       "str"
      ]
     },
     "execution_count": 2,
     "metadata": {},
     "output_type": "execute_result"
    }
   ],
   "source": [
    "# help(BeautifulSoup.findAll)\n",
    "type(\"1\")"
   ]
  },
  {
   "cell_type": "markdown",
   "id": "d040fe93-be4a-44d8-90ba-0eec9b006af8",
   "metadata": {},
   "source": [
    "# 자연어 처리"
   ]
  },
  {
   "cell_type": "code",
   "execution_count": 2,
   "id": "1c9f2b21-b09b-4797-b54e-7b361d74578e",
   "metadata": {},
   "outputs": [],
   "source": [
    "from konlpy.tag import Komoran"
   ]
  },
  {
   "cell_type": "code",
   "execution_count": 3,
   "id": "d8952a15-c643-4fdb-80f3-5d636a040872",
   "metadata": {},
   "outputs": [
    {
     "data": {
      "text/plain": [
       "['안녕하세요']"
      ]
     },
     "execution_count": 3,
     "metadata": {},
     "output_type": "execute_result"
    }
   ],
   "source": [
    "komoran = Komoran()\n",
    "komoran.nouns(\"안녕하세요\")"
   ]
  },
  {
   "cell_type": "code",
   "execution_count": 42,
   "id": "8957343d-37f3-4892-8f47-730b8f3e9169",
   "metadata": {},
   "outputs": [
    {
     "name": "stdout",
     "output_type": "stream",
     "text": [
      "때 NNG\n",
      "첫사랑 NNP\n",
      "진행 NNG\n",
      "말 NNG\n",
      "2년 NNP\n",
      "전 NNP\n",
      "게 NNG\n",
      "기분 NNG\n",
      "아냐 NNP\n",
      "가슴 NNG\n",
      "생각 NNG\n",
      "손 NNG\n",
      "때 NNG\n",
      "사람 NNG\n",
      "상처 NNP\n",
      "날 NNG\n",
      "모두 NNG\n",
      "때 NNG\n",
      "일 NNG\n",
      "친구 NNG\n",
      "가슴 NNG\n",
      "생각 NNG\n",
      "손 NNG\n",
      "때 NNG\n",
      "사람 NNG\n",
      "가슴 NNG\n",
      "생각 NNG\n",
      "손 NNG\n",
      "때 NNG\n",
      "사람 NNG\n",
      "때 NNG\n",
      "첫사랑 NNP\n",
      "진행 NNG\n"
     ]
    }
   ],
   "source": [
    "with open(\"./melon/10CM/10CM-고백.txt\", \"r\") as f:\n",
    "    ly = f.read()\n",
    "    \n",
    "# NNP, NNG\n",
    "list_count = dict()\n",
    "for x in komoran.pos(ly):\n",
    "    if x[1] == \"NNP\" or x[1] == \"NNG\":\n",
    "        print(x[0], x[1])"
   ]
  },
  {
   "cell_type": "markdown",
   "id": "1ee524f3-3c33-4fb5-ad87-25a6b20d5c22",
   "metadata": {},
   "source": [
    "# 람다"
   ]
  },
  {
   "cell_type": "code",
   "execution_count": 47,
   "id": "5a7785da-059b-4cac-8712-14b4b62cd938",
   "metadata": {},
   "outputs": [
    {
     "data": {
      "text/plain": [
       "3"
      ]
     },
     "execution_count": 47,
     "metadata": {},
     "output_type": "execute_result"
    }
   ],
   "source": [
    "def add(a, b):\n",
    "    return a + b\n",
    "\n",
    "(lambda c, d : c + d)(1, 2)"
   ]
  },
  {
   "cell_type": "markdown",
   "id": "d2d953c0-e292-4897-9343-9b979600e9ba",
   "metadata": {},
   "source": [
    "# selenium"
   ]
  },
  {
   "cell_type": "code",
   "execution_count": 4,
   "id": "384fdc53-ef4c-4005-b9e1-5c49adf766c4",
   "metadata": {},
   "outputs": [],
   "source": [
    "from selenium import webdriver\n",
    "driver = webdriver.Chrome(\"chromedriver.exe\")\n",
    "driver.get(\"http://www.naver.com\")"
   ]
  }
 ],
 "metadata": {
  "kernelspec": {
   "display_name": "Python 3",
   "language": "python",
   "name": "python3"
  },
  "language_info": {
   "codemirror_mode": {
    "name": "ipython",
    "version": 3
   },
   "file_extension": ".py",
   "mimetype": "text/x-python",
   "name": "python",
   "nbconvert_exporter": "python",
   "pygments_lexer": "ipython3",
   "version": "3.8.8"
  }
 },
 "nbformat": 4,
 "nbformat_minor": 5
}
