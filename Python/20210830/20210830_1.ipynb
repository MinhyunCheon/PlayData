{
 "cells": [
  {
   "cell_type": "code",
   "execution_count": 19,
   "id": "d6d63cfd",
   "metadata": {},
   "outputs": [],
   "source": [
    "a = 1"
   ]
  },
  {
   "cell_type": "code",
   "execution_count": 21,
   "id": "86888444",
   "metadata": {},
   "outputs": [],
   "source": [
    "b = 2"
   ]
  },
  {
   "cell_type": "code",
   "execution_count": 22,
   "id": "b506b26e",
   "metadata": {},
   "outputs": [],
   "source": [
    "test_var = 1"
   ]
  },
  {
   "cell_type": "code",
   "execution_count": 24,
   "id": "26fb0622",
   "metadata": {},
   "outputs": [
    {
     "data": {
      "text/plain": [
       "int"
      ]
     },
     "execution_count": 24,
     "metadata": {},
     "output_type": "execute_result"
    }
   ],
   "source": [
    "type(test_var)"
   ]
  },
  {
   "cell_type": "code",
   "execution_count": 25,
   "id": "c83739e6",
   "metadata": {},
   "outputs": [],
   "source": [
    "test_var = 1.0"
   ]
  },
  {
   "cell_type": "code",
   "execution_count": 27,
   "id": "7372c487",
   "metadata": {},
   "outputs": [
    {
     "data": {
      "text/plain": [
       "float"
      ]
     },
     "execution_count": 27,
     "metadata": {},
     "output_type": "execute_result"
    }
   ],
   "source": [
    "type(test_var)"
   ]
  },
  {
   "cell_type": "code",
   "execution_count": 31,
   "id": "39cf696b",
   "metadata": {},
   "outputs": [
    {
     "data": {
      "text/plain": [
       "0.30000000000000004"
      ]
     },
     "execution_count": 31,
     "metadata": {},
     "output_type": "execute_result"
    }
   ],
   "source": [
    "0.2 + 0.1"
   ]
  },
  {
   "cell_type": "code",
   "execution_count": 33,
   "id": "25a40919",
   "metadata": {},
   "outputs": [],
   "source": [
    "year = 2021\n",
    "month = 8\n",
    "day = 30\n"
   ]
  },
  {
   "cell_type": "code",
   "execution_count": 37,
   "id": "4c9af31a",
   "metadata": {},
   "outputs": [
    {
     "name": "stdout",
     "output_type": "stream",
     "text": [
      "2021 8 30\n"
     ]
    }
   ],
   "source": [
    "print(year, month, day)"
   ]
  },
  {
   "cell_type": "code",
   "execution_count": 39,
   "id": "611c12af",
   "metadata": {},
   "outputs": [],
   "source": [
    "text = \"Hello\"\n",
    "text2 = 'Hello'"
   ]
  },
  {
   "cell_type": "code",
   "execution_count": 44,
   "id": "a4f0bfb0",
   "metadata": {},
   "outputs": [
    {
     "name": "stdout",
     "output_type": "stream",
     "text": [
      "{}년 {}월 {}일\n"
     ]
    }
   ],
   "source": [
    "text = \"{}년 {}월 {}일\"\n",
    "text.format(year, month, day)\n",
    "print(text)"
   ]
  },
  {
   "cell_type": "code",
   "execution_count": 48,
   "id": "392c5a97",
   "metadata": {},
   "outputs": [
    {
     "data": {
      "text/plain": [
       "False"
      ]
     },
     "execution_count": 48,
     "metadata": {},
     "output_type": "execute_result"
    }
   ],
   "source": [
    "not True\n"
   ]
  },
  {
   "cell_type": "code",
   "execution_count": 58,
   "id": "bf00e964",
   "metadata": {},
   "outputs": [
    {
     "name": "stdout",
     "output_type": "stream",
     "text": [
      "input distance 3\n",
      "도보\n"
     ]
    }
   ],
   "source": [
    "distance = input('input distance ')\n",
    "distance = int(distance)\n",
    "\n",
    "if distance <= 3:\n",
    "    print('도보')\n",
    "elif distance > 3 and distance < 10:\n",
    "    print('버스')\n",
    "else:\n",
    "    print('택시')"
   ]
  },
  {
   "cell_type": "code",
   "execution_count": 70,
   "id": "61799457",
   "metadata": {},
   "outputs": [
    {
     "name": "stdout",
     "output_type": "stream",
     "text": [
      "a : 3\n",
      "b : 2\n",
      "c : 1\n",
      "최대값은 3입니다.\n"
     ]
    }
   ],
   "source": [
    "a = int(input(\"a : \"))\n",
    "b = int(input(\"b : \"))\n",
    "c = int(input(\"c : \"))\n",
    "maximum = a\n",
    "\n",
    "if maximum < b:\n",
    "    maximum = b\n",
    "if maximum < c:\n",
    "    maximum = c\n",
    "print(\"최대값은 {}입니다.\" .format(maximum))"
   ]
  },
  {
   "cell_type": "markdown",
   "id": "b705389c",
   "metadata": {},
   "source": [
    "## 시퀀스형 데이터\n",
    "* 공백도 문자열에 포함(str1[4] 출력 시, 공백 출력)\n",
    "* 역순 인덱스 값도 존재(인덱스 -1 참조 시, 맨 뒤의 문자열 출력)"
   ]
  },
  {
   "cell_type": "code",
   "execution_count": 74,
   "id": "40a071f7",
   "metadata": {},
   "outputs": [],
   "source": [
    "str1 = \"인생이란 가까이서 보면 비극이고, 멀리보면 희극이다.\""
   ]
  },
  {
   "cell_type": "code",
   "execution_count": 76,
   "id": "c8b24698",
   "metadata": {},
   "outputs": [
    {
     "data": {
      "text/plain": [
       "' '"
      ]
     },
     "execution_count": 76,
     "metadata": {},
     "output_type": "execute_result"
    }
   ],
   "source": [
    "str1[4]"
   ]
  },
  {
   "cell_type": "code",
   "execution_count": 77,
   "id": "9cb41773",
   "metadata": {
    "scrolled": true
   },
   "outputs": [
    {
     "data": {
      "text/plain": [
       "29"
      ]
     },
     "execution_count": 77,
     "metadata": {},
     "output_type": "execute_result"
    }
   ],
   "source": [
    "len(str)"
   ]
  },
  {
   "cell_type": "code",
   "execution_count": 80,
   "id": "e4069268",
   "metadata": {},
   "outputs": [
    {
     "data": {
      "text/plain": [
       "'희'"
      ]
     },
     "execution_count": 80,
     "metadata": {},
     "output_type": "execute_result"
    }
   ],
   "source": [
    "str[-5]"
   ]
  },
  {
   "cell_type": "code",
   "execution_count": 82,
   "id": "ce24a05e",
   "metadata": {},
   "outputs": [
    {
     "data": {
      "text/plain": [
       "'생이란 '"
      ]
     },
     "execution_count": 82,
     "metadata": {},
     "output_type": "execute_result"
    }
   ],
   "source": [
    "str1[1:5]"
   ]
  },
  {
   "cell_type": "markdown",
   "id": "e4b793af",
   "metadata": {},
   "source": [
    "### 인덱스 0부터 9까지 출력(인덱스 2씩 증가)"
   ]
  },
  {
   "cell_type": "code",
   "execution_count": 84,
   "id": "2cfadae4",
   "metadata": {},
   "outputs": [
    {
     "data": {
      "text/plain": [
       "'인이 까서'"
      ]
     },
     "execution_count": 84,
     "metadata": {},
     "output_type": "execute_result"
    }
   ],
   "source": [
    "str1[0:10:2]"
   ]
  },
  {
   "cell_type": "markdown",
   "id": "ef3f79e1",
   "metadata": {},
   "source": [
    "### 해당 변수가 참조할 수 있는 기능 출력"
   ]
  },
  {
   "cell_type": "code",
   "execution_count": 85,
   "id": "858a31a7",
   "metadata": {},
   "outputs": [
    {
     "data": {
      "text/plain": [
       "['__add__',\n",
       " '__class__',\n",
       " '__contains__',\n",
       " '__delattr__',\n",
       " '__dir__',\n",
       " '__doc__',\n",
       " '__eq__',\n",
       " '__format__',\n",
       " '__ge__',\n",
       " '__getattribute__',\n",
       " '__getitem__',\n",
       " '__getnewargs__',\n",
       " '__gt__',\n",
       " '__hash__',\n",
       " '__init__',\n",
       " '__init_subclass__',\n",
       " '__iter__',\n",
       " '__le__',\n",
       " '__len__',\n",
       " '__lt__',\n",
       " '__mod__',\n",
       " '__mul__',\n",
       " '__ne__',\n",
       " '__new__',\n",
       " '__reduce__',\n",
       " '__reduce_ex__',\n",
       " '__repr__',\n",
       " '__rmod__',\n",
       " '__rmul__',\n",
       " '__setattr__',\n",
       " '__sizeof__',\n",
       " '__str__',\n",
       " '__subclasshook__',\n",
       " 'capitalize',\n",
       " 'casefold',\n",
       " 'center',\n",
       " 'count',\n",
       " 'encode',\n",
       " 'endswith',\n",
       " 'expandtabs',\n",
       " 'find',\n",
       " 'format',\n",
       " 'format_map',\n",
       " 'index',\n",
       " 'isalnum',\n",
       " 'isalpha',\n",
       " 'isascii',\n",
       " 'isdecimal',\n",
       " 'isdigit',\n",
       " 'isidentifier',\n",
       " 'islower',\n",
       " 'isnumeric',\n",
       " 'isprintable',\n",
       " 'isspace',\n",
       " 'istitle',\n",
       " 'isupper',\n",
       " 'join',\n",
       " 'ljust',\n",
       " 'lower',\n",
       " 'lstrip',\n",
       " 'maketrans',\n",
       " 'partition',\n",
       " 'replace',\n",
       " 'rfind',\n",
       " 'rindex',\n",
       " 'rjust',\n",
       " 'rpartition',\n",
       " 'rsplit',\n",
       " 'rstrip',\n",
       " 'split',\n",
       " 'splitlines',\n",
       " 'startswith',\n",
       " 'strip',\n",
       " 'swapcase',\n",
       " 'title',\n",
       " 'translate',\n",
       " 'upper',\n",
       " 'zfill']"
      ]
     },
     "execution_count": 85,
     "metadata": {},
     "output_type": "execute_result"
    }
   ],
   "source": [
    "dir(str1)"
   ]
  },
  {
   "cell_type": "code",
   "execution_count": 87,
   "id": "ea12f07c",
   "metadata": {},
   "outputs": [
    {
     "data": {
      "text/plain": [
       "'인생이란 가까이서 보면 tragedy이고, 멀리보면 희극이다.'"
      ]
     },
     "execution_count": 87,
     "metadata": {},
     "output_type": "execute_result"
    }
   ],
   "source": [
    "str1.replace('비극', 'tragedy')"
   ]
  },
  {
   "cell_type": "code",
   "execution_count": 88,
   "id": "beb5efa6",
   "metadata": {},
   "outputs": [
    {
     "data": {
      "text/plain": [
       "24"
      ]
     },
     "execution_count": 88,
     "metadata": {},
     "output_type": "execute_result"
    }
   ],
   "source": [
    "str1.find('희극')"
   ]
  },
  {
   "cell_type": "code",
   "execution_count": 89,
   "id": "a813e10e",
   "metadata": {},
   "outputs": [
    {
     "data": {
      "text/plain": [
       "['인생이란', '가까이서', '보면', '비극이고,', '멀리보면', '희극이다.']"
      ]
     },
     "execution_count": 89,
     "metadata": {},
     "output_type": "execute_result"
    }
   ],
   "source": [
    "str1.split(' ')"
   ]
  },
  {
   "cell_type": "markdown",
   "id": "f41dbb9f",
   "metadata": {},
   "source": [
    "### 역순 출력"
   ]
  },
  {
   "cell_type": "code",
   "execution_count": 90,
   "id": "8c1cff9a",
   "metadata": {},
   "outputs": [
    {
     "data": {
      "text/plain": [
       "'.다이극희 면보리멀 ,고이극비 면보 서이까가 란이생인'"
      ]
     },
     "execution_count": 90,
     "metadata": {},
     "output_type": "execute_result"
    }
   ],
   "source": [
    "str1[::-1]"
   ]
  },
  {
   "cell_type": "markdown",
   "id": "966ee865",
   "metadata": {},
   "source": [
    "# List\n",
    "\n",
    "* 파이썬의 배열은 데이터형에 상관없이 저장 가능"
   ]
  },
  {
   "cell_type": "code",
   "execution_count": 93,
   "id": "9f10990e",
   "metadata": {},
   "outputs": [],
   "source": [
    "list = [1, 'a', 4.0]"
   ]
  },
  {
   "cell_type": "code",
   "execution_count": 95,
   "id": "03c113dc",
   "metadata": {},
   "outputs": [
    {
     "name": "stdout",
     "output_type": "stream",
     "text": [
      "1\n",
      "a\n",
      "4.0\n"
     ]
    }
   ],
   "source": [
    "for x in list:\n",
    "    print(x)"
   ]
  },
  {
   "cell_type": "markdown",
   "id": "acb83ede",
   "metadata": {},
   "source": [
    "### 알고리즘 테스트 시, for문이 많을 수록 패널티를 받을 수 있다."
   ]
  },
  {
   "cell_type": "code",
   "execution_count": 98,
   "id": "38bd4c2f",
   "metadata": {},
   "outputs": [
    {
     "name": "stdout",
     "output_type": "stream",
     "text": [
      "1\n",
      "2\n",
      "3\n",
      "4\n",
      "5\n",
      "6\n",
      "7\n",
      "8\n",
      "9\n"
     ]
    }
   ],
   "source": [
    "for x in range(1, 10):\n",
    "    print(x)"
   ]
  },
  {
   "cell_type": "code",
   "execution_count": 106,
   "id": "b5f6700e",
   "metadata": {},
   "outputs": [
    {
     "name": "stdout",
     "output_type": "stream",
     "text": [
      "2 x 1 = 2\n",
      "2 x 2 = 4\n",
      "2 x 3 = 6\n",
      "2 x 4 = 8\n",
      "2 x 5 = 10\n",
      "2 x 6 = 12\n",
      "2 x 7 = 14\n",
      "2 x 8 = 16\n",
      "2 x 9 = 18\n",
      "4 x 1 = 4\n",
      "4 x 2 = 8\n",
      "4 x 3 = 12\n",
      "4 x 4 = 16\n",
      "4 x 5 = 20\n",
      "4 x 6 = 24\n",
      "4 x 7 = 28\n",
      "4 x 8 = 32\n",
      "4 x 9 = 36\n",
      "8 x 1 = 8\n",
      "8 x 2 = 16\n",
      "8 x 3 = 24\n",
      "8 x 4 = 32\n",
      "8 x 5 = 40\n",
      "8 x 6 = 48\n",
      "8 x 7 = 56\n",
      "8 x 8 = 64\n",
      "8 x 9 = 72\n"
     ]
    }
   ],
   "source": [
    "for x in range(2, 10):\n",
    "    if(x % 2 == 0 and x % 3 != 0):\n",
    "        for y in range(1, 10):\n",
    "            print(\"{} x {} = {}\" .format(x, y, x*y))"
   ]
  },
  {
   "cell_type": "code",
   "execution_count": 110,
   "id": "efaaaa41",
   "metadata": {},
   "outputs": [
    {
     "name": "stdout",
     "output_type": "stream",
     "text": [
      "[1, 11, 13, 17, 19, 23, 29, 31, 37, 41, 43, 47, 53, 59, 61, 67, 71, 73, 79, 83, 89, 97]\n"
     ]
    }
   ],
   "source": [
    "prime = []\n",
    "for x in range(1, 101):\n",
    "    if x % 2 != 0 and x % 3 != 0 and x % 5 != 0 and x % 7 != 0:\n",
    "        prime.append(x)\n",
    "print(prime)"
   ]
  },
  {
   "cell_type": "code",
   "execution_count": 115,
   "id": "732b5411",
   "metadata": {},
   "outputs": [
    {
     "name": "stdout",
     "output_type": "stream",
     "text": [
      "[2000]\n"
     ]
    }
   ],
   "source": [
    "leak_year = []\n",
    "for x in range(1900, 2101):\n",
    "    if x % 4 == 0 and x % 100 == 0 and x % 400 == 0:\n",
    "        leak_year.append(x)\n",
    "print(leak_year)"
   ]
  },
  {
   "cell_type": "markdown",
   "id": "2139c6bb",
   "metadata": {},
   "source": [
    "### 파이썬의 print는 기본 개행 속성을 갖는다. print(x, end = \", \")로 대체할 수 있다."
   ]
  },
  {
   "cell_type": "markdown",
   "id": "76fb4232",
   "metadata": {},
   "source": [
    "# 사전(dict)\n",
    "* json과 유사\n",
    "* key - value"
   ]
  },
  {
   "cell_type": "code",
   "execution_count": 119,
   "id": "d9b64ed3",
   "metadata": {},
   "outputs": [],
   "source": [
    "lyric = \"\"\"I love you 사랑한다는 이 말 밖에는 해줄 말이 없네요\n",
    "I love you 의미없는 말이 되었지만 사랑해요\n",
    "\n",
    "이제와서 무슨 소용 있겠어요 다신 볼 수 없는 이별인데\n",
    "돌이킬 수 없는걸 잘 알고 있지만\n",
    "어떻게든 그댈 잡아 두고 싶은걸 우~ 우~ 우~\n",
    "\n",
    "이 세상 아니라도 언젠가 우리 다시 만날텐데\n",
    "눈물 한 방울도 보여선 안되겠죠\n",
    "사랑에 빠지게 만들었던 미소로 날 떠나요\n",
    "그 미소 하나로 언제라도 그대를 찾아낼 수 있게\n",
    "\n",
    "I love you 기억하나요 처음 그대에게 느낀 그 떨림\n",
    "I love you 오랜 후에서야 내게 해준 그대 그 한마디\n",
    "\n",
    "우리 사랑 안 될 거라 생각했죠 너무나도 아름다웠기에\n",
    "돌아서려 했었던 내 앞에 그대는\n",
    "꿈만 같은 사랑으로 다가왔었죠 우~ 우~ 우~\n",
    "\n",
    "이 세상 아니라도 언젠가 우리 다시 만날텐데\n",
    "눈물 한 방울도 보여선 안되겠죠\n",
    "사랑에 빠지게 만들었던 미소로 날 떠나요\n",
    "그 미소 하나로 언제라도 그대를 찾아낼 수 있게\n",
    "\n",
    "언젠가 우리 다시 만나면 약속 하나만 해요\n",
    "이렇게 아프게 너무 쉽게 헤어질 사랑하진 마요\"\"\""
   ]
  },
  {
   "cell_type": "code",
   "execution_count": 121,
   "id": "d5fdc250",
   "metadata": {},
   "outputs": [
    {
     "name": "stdout",
     "output_type": "stream",
     "text": [
      "I love you 사랑한다는 이 말 밖에는 해줄 말이 없네요\n",
      "I love you 의미없는 말이 되었지만 사랑해요\n",
      "\n",
      "이제와서 무슨 소용 있겠어요 다신 볼 수 없는 이별인데\n",
      "돌이킬 수 없는걸 잘 알고 있지만\n",
      "어떻게든 그댈 잡아 두고 싶은걸 우~ 우~ 우~\n",
      "\n",
      "이 세상 아니라도 언젠가 우리 다시 만날텐데\n",
      "눈물 한 방울도 보여선 안되겠죠\n",
      "사랑에 빠지게 만들었던 미소로 날 떠나요\n",
      "그 미소 하나로 언제라도 그대를 찾아낼 수 있게\n",
      "\n",
      "I love you 기억하나요 처음 그대에게 느낀 그 떨림\n",
      "I love you 오랜 후에서야 내게 해준 그대 그 한마디\n",
      "\n",
      "우리 사랑 안 될 거라 생각했죠 너무나도 아름다웠기에\n",
      "돌아서려 했었던 내 앞에 그대는\n",
      "꿈만 같은 사랑으로 다가왔었죠 우~ 우~ 우~\n",
      "\n",
      "이 세상 아니라도 언젠가 우리 다시 만날텐데\n",
      "눈물 한 방울도 보여선 안되겠죠\n",
      "사랑에 빠지게 만들었던 미소로 날 떠나요\n",
      "그 미소 하나로 언제라도 그대를 찾아낼 수 있게\n",
      "\n",
      "언젠가 우리 다시 만나면 약속 하나만 해요\n",
      "이렇게 아프게 너무 쉽게 헤어질 사랑하진 마요\n"
     ]
    }
   ],
   "source": [
    "print(lyric)"
   ]
  },
  {
   "cell_type": "code",
   "execution_count": 127,
   "id": "de5cceea",
   "metadata": {},
   "outputs": [
    {
     "name": "stdout",
     "output_type": "stream",
     "text": [
      "I, love, you, 사랑한다는, 이, 말, 밖에는, 해줄, 말이, 없네요, I, love, you, 의미없는, 말이, 되었지만, 사랑해요, 이제와서, 무슨, 소용, 있겠어요, 다신, 볼, 수, 없는, 이별인데, 돌이킬, 수, 없는걸, 잘, 알고, 있지만, 어떻게든, 그댈, 잡아, 두고, 싶은걸, 우~, 우~, 우~, 이, 세상, 아니라도, 언젠가, 우리, 다시, 만날텐데, 눈물, 한, 방울도, 보여선, 안되겠죠, 사랑에, 빠지게, 만들었던, 미소로, 날, 떠나요, 그, 미소, 하나로, 언제라도, 그대를, 찾아낼, 수, 있게, I, love, you, 기억하나요, 처음, 그대에게, 느낀, 그, 떨림, I, love, you, 오랜, 후에서야, 내게, 해준, 그대, 그, 한마디, 우리, 사랑, 안, 될, 거라, 생각했죠, 너무나도, 아름다웠기에, 돌아서려, 했었던, 내, 앞에, 그대는, 꿈만, 같은, 사랑으로, 다가왔었죠, 우~, 우~, 우~, 이, 세상, 아니라도, 언젠가, 우리, 다시, 만날텐데, 눈물, 한, 방울도, 보여선, 안되겠죠, 사랑에, 빠지게, 만들었던, 미소로, 날, 떠나요, 그, 미소, 하나로, 언제라도, 그대를, 찾아낼, 수, 있게, 언젠가, 우리, 다시, 만나면, 약속, 하나만, 해요, 이렇게, 아프게, 너무, 쉽게, 헤어질, 사랑하진, 마요, "
     ]
    }
   ],
   "source": [
    "rt = lyric.split()\n",
    "lyric_dict = dict()\n",
    "for x in rt:\n",
    "    print(x, end = \", \")\n",
    "    if x in lyric_dict:\n",
    "        lyric_dict[x] = lyric_dict[x] + 1\n",
    "    else:\n",
    "        lyric_dict[x] = 1"
   ]
  },
  {
   "cell_type": "code",
   "execution_count": 128,
   "id": "5743748a",
   "metadata": {},
   "outputs": [
    {
     "name": "stdout",
     "output_type": "stream",
     "text": [
      "{'I': 4, 'love': 4, 'you': 4, '사랑한다는': 1, '이': 3, '말': 1, '밖에는': 1, '해줄': 1, '말이': 2, '없네요': 1, '의미없는': 1, '되었지만': 1, '사랑해요': 1, '이제와서': 1, '무슨': 1, '소용': 1, '있겠어요': 1, '다신': 1, '볼': 1, '수': 4, '없는': 1, '이별인데': 1, '돌이킬': 1, '없는걸': 1, '잘': 1, '알고': 1, '있지만': 1, '어떻게든': 1, '그댈': 1, '잡아': 1, '두고': 1, '싶은걸': 1, '우~': 6, '세상': 2, '아니라도': 2, '언젠가': 3, '우리': 4, '다시': 3, '만날텐데': 2, '눈물': 2, '한': 2, '방울도': 2, '보여선': 2, '안되겠죠': 2, '사랑에': 2, '빠지게': 2, '만들었던': 2, '미소로': 2, '날': 2, '떠나요': 2, '그': 4, '미소': 2, '하나로': 2, '언제라도': 2, '그대를': 2, '찾아낼': 2, '있게': 2, '기억하나요': 1, '처음': 1, '그대에게': 1, '느낀': 1, '떨림': 1, '오랜': 1, '후에서야': 1, '내게': 1, '해준': 1, '그대': 1, '한마디': 1, '사랑': 1, '안': 1, '될': 1, '거라': 1, '생각했죠': 1, '너무나도': 1, '아름다웠기에': 1, '돌아서려': 1, '했었던': 1, '내': 1, '앞에': 1, '그대는': 1, '꿈만': 1, '같은': 1, '사랑으로': 1, '다가왔었죠': 1, '만나면': 1, '약속': 1, '하나만': 1, '해요': 1, '이렇게': 1, '아프게': 1, '너무': 1, '쉽게': 1, '헤어질': 1, '사랑하진': 1, '마요': 1}\n"
     ]
    }
   ],
   "source": [
    "print(lyric_dict)"
   ]
  }
 ],
 "metadata": {
  "kernelspec": {
   "display_name": "Python 3",
   "language": "python",
   "name": "python3"
  },
  "language_info": {
   "codemirror_mode": {
    "name": "ipython",
    "version": 3
   },
   "file_extension": ".py",
   "mimetype": "text/x-python",
   "name": "python",
   "nbconvert_exporter": "python",
   "pygments_lexer": "ipython3",
   "version": "3.8.8"
  }
 },
 "nbformat": 4,
 "nbformat_minor": 5
}
