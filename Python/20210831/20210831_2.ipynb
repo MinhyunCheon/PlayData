{
 "cells": [
  {
   "cell_type": "code",
   "execution_count": 3,
   "id": "f77d8232",
   "metadata": {},
   "outputs": [],
   "source": [
    "import sys"
   ]
  },
  {
   "cell_type": "code",
   "execution_count": 4,
   "id": "2a9139df",
   "metadata": {},
   "outputs": [
    {
     "data": {
      "text/plain": [
       "['c:\\\\users\\\\cheon\\\\anaconda3\\\\envs\\\\encore\\\\python36.zip',\n",
       " 'c:\\\\users\\\\cheon\\\\anaconda3\\\\envs\\\\encore\\\\DLLs',\n",
       " 'c:\\\\users\\\\cheon\\\\anaconda3\\\\envs\\\\encore\\\\lib',\n",
       " 'c:\\\\users\\\\cheon\\\\anaconda3\\\\envs\\\\encore',\n",
       " '',\n",
       " 'c:\\\\users\\\\cheon\\\\anaconda3\\\\envs\\\\encore\\\\lib\\\\site-packages',\n",
       " 'c:\\\\users\\\\cheon\\\\anaconda3\\\\envs\\\\encore\\\\lib\\\\site-packages\\\\win32',\n",
       " 'c:\\\\users\\\\cheon\\\\anaconda3\\\\envs\\\\encore\\\\lib\\\\site-packages\\\\win32\\\\lib',\n",
       " 'c:\\\\users\\\\cheon\\\\anaconda3\\\\envs\\\\encore\\\\lib\\\\site-packages\\\\Pythonwin',\n",
       " 'c:\\\\users\\\\cheon\\\\anaconda3\\\\envs\\\\encore\\\\lib\\\\site-packages\\\\IPython\\\\extensions',\n",
       " 'C:\\\\Users\\\\Cheon\\\\.ipython']"
      ]
     },
     "execution_count": 4,
     "metadata": {},
     "output_type": "execute_result"
    }
   ],
   "source": [
    "sys.path"
   ]
  },
  {
   "cell_type": "markdown",
   "id": "e2cd3eeb-4039-4bbe-b10d-92fc5c526570",
   "metadata": {},
   "source": [
    "# 리스트 축약형"
   ]
  },
  {
   "cell_type": "code",
   "execution_count": 6,
   "id": "3d5a1d02-2e10-4c02-9cdb-d328de8ef15a",
   "metadata": {},
   "outputs": [],
   "source": [
    "list3 = [x for x in range(1,10)]"
   ]
  },
  {
   "cell_type": "code",
   "execution_count": 8,
   "id": "f9f86e97-ce0c-4acb-966b-edfeb17eccdd",
   "metadata": {},
   "outputs": [
    {
     "name": "stdout",
     "output_type": "stream",
     "text": [
      "[1, 2, 3, 4, 5, 6, 7, 8, 9]\n"
     ]
    }
   ],
   "source": [
    "print(list3)"
   ]
  },
  {
   "cell_type": "code",
   "execution_count": 10,
   "id": "be9f6e7e-55fd-4ecc-b554-26b6d4e513dd",
   "metadata": {},
   "outputs": [
    {
     "name": "stdout",
     "output_type": "stream",
     "text": [
      "[2, 4, 6, 8]\n"
     ]
    }
   ],
   "source": [
    "list2 = list()\n",
    "for x in range(1, 10):\n",
    "    if x % 2 == 0:\n",
    "        list2.append(x)\n",
    "print(list2)"
   ]
  },
  {
   "cell_type": "code",
   "execution_count": 12,
   "id": "620b76f4-cfe7-4657-88e1-9a86e74bae32",
   "metadata": {},
   "outputs": [
    {
     "name": "stdout",
     "output_type": "stream",
     "text": [
      "[2, 4, 6, 8]\n"
     ]
    }
   ],
   "source": [
    "list3 = [x for x in range(1, 10) if x % 2 == 0]\n",
    "print(list3)"
   ]
  },
  {
   "cell_type": "markdown",
   "id": "188a5ebc-3da2-409c-963b-2a01f6a690d4",
   "metadata": {},
   "source": [
    "### f스트링(3.7 버전 이상)"
   ]
  },
  {
   "cell_type": "code",
   "execution_count": 15,
   "id": "cdbd595a-d437-45c3-aeaa-f80926c40739",
   "metadata": {},
   "outputs": [
    {
     "data": {
      "text/plain": [
       "'a의 값 10'"
      ]
     },
     "execution_count": 15,
     "metadata": {},
     "output_type": "execute_result"
    }
   ],
   "source": [
    "a = 10\n",
    "f\"a의 값 {a}\""
   ]
  },
  {
   "cell_type": "code",
   "execution_count": 18,
   "id": "436c2b3a-027a-432d-b303-bd873f4d31d3",
   "metadata": {},
   "outputs": [
    {
     "name": "stdout",
     "output_type": "stream",
     "text": [
      "['2 x 1 = 2', '2 x 2 = 4', '2 x 3 = 6', '2 x 4 = 8', '2 x 5 = 10', '2 x 6 = 12', '2 x 7 = 14', '2 x 8 = 16', '2 x 9 = 18', '3 x 1 = 3', '3 x 2 = 6', '3 x 3 = 9', '3 x 4 = 12', '3 x 5 = 15', '3 x 6 = 18', '3 x 7 = 21', '3 x 8 = 24', '3 x 9 = 27', '4 x 1 = 4', '4 x 2 = 8', '4 x 3 = 12', '4 x 4 = 16', '4 x 5 = 20', '4 x 6 = 24', '4 x 7 = 28', '4 x 8 = 32', '4 x 9 = 36', '5 x 1 = 5', '5 x 2 = 10', '5 x 3 = 15', '5 x 4 = 20', '5 x 5 = 25', '5 x 6 = 30', '5 x 7 = 35', '5 x 8 = 40', '5 x 9 = 45', '6 x 1 = 6', '6 x 2 = 12', '6 x 3 = 18', '6 x 4 = 24', '6 x 5 = 30', '6 x 6 = 36', '6 x 7 = 42', '6 x 8 = 48', '6 x 9 = 54', '7 x 1 = 7', '7 x 2 = 14', '7 x 3 = 21', '7 x 4 = 28', '7 x 5 = 35', '7 x 6 = 42', '7 x 7 = 49', '7 x 8 = 56', '7 x 9 = 63', '8 x 1 = 8', '8 x 2 = 16', '8 x 3 = 24', '8 x 4 = 32', '8 x 5 = 40', '8 x 6 = 48', '8 x 7 = 56', '8 x 8 = 64', '8 x 9 = 72', '9 x 1 = 9', '9 x 2 = 18', '9 x 3 = 27', '9 x 4 = 36', '9 x 5 = 45', '9 x 6 = 54', '9 x 7 = 63', '9 x 8 = 72', '9 x 9 = 81']\n"
     ]
    }
   ],
   "source": [
    "gugudan = []\n",
    "for x in range(2, 10):\n",
    "    for y in range(1, 10):\n",
    "        gugudan.append(f\"{x} x {y} = {x * y}\")\n",
    "print(gugudan)"
   ]
  },
  {
   "cell_type": "code",
   "execution_count": 20,
   "id": "a898bd82-971e-48ce-88d6-cf09f2a56a95",
   "metadata": {},
   "outputs": [
    {
     "data": {
      "text/plain": [
       "['2 x 1 = 2',\n",
       " '2 x 2 = 4',\n",
       " '2 x 3 = 6',\n",
       " '2 x 4 = 8',\n",
       " '2 x 5 = 10',\n",
       " '2 x 6 = 12',\n",
       " '2 x 7 = 14',\n",
       " '2 x 8 = 16',\n",
       " '2 x 9 = 18',\n",
       " '3 x 1 = 3',\n",
       " '3 x 2 = 6',\n",
       " '3 x 3 = 9',\n",
       " '3 x 4 = 12',\n",
       " '3 x 5 = 15',\n",
       " '3 x 6 = 18',\n",
       " '3 x 7 = 21',\n",
       " '3 x 8 = 24',\n",
       " '3 x 9 = 27',\n",
       " '4 x 1 = 4',\n",
       " '4 x 2 = 8',\n",
       " '4 x 3 = 12',\n",
       " '4 x 4 = 16',\n",
       " '4 x 5 = 20',\n",
       " '4 x 6 = 24',\n",
       " '4 x 7 = 28',\n",
       " '4 x 8 = 32',\n",
       " '4 x 9 = 36',\n",
       " '5 x 1 = 5',\n",
       " '5 x 2 = 10',\n",
       " '5 x 3 = 15',\n",
       " '5 x 4 = 20',\n",
       " '5 x 5 = 25',\n",
       " '5 x 6 = 30',\n",
       " '5 x 7 = 35',\n",
       " '5 x 8 = 40',\n",
       " '5 x 9 = 45',\n",
       " '6 x 1 = 6',\n",
       " '6 x 2 = 12',\n",
       " '6 x 3 = 18',\n",
       " '6 x 4 = 24',\n",
       " '6 x 5 = 30',\n",
       " '6 x 6 = 36',\n",
       " '6 x 7 = 42',\n",
       " '6 x 8 = 48',\n",
       " '6 x 9 = 54',\n",
       " '7 x 1 = 7',\n",
       " '7 x 2 = 14',\n",
       " '7 x 3 = 21',\n",
       " '7 x 4 = 28',\n",
       " '7 x 5 = 35',\n",
       " '7 x 6 = 42',\n",
       " '7 x 7 = 49',\n",
       " '7 x 8 = 56',\n",
       " '7 x 9 = 63',\n",
       " '8 x 1 = 8',\n",
       " '8 x 2 = 16',\n",
       " '8 x 3 = 24',\n",
       " '8 x 4 = 32',\n",
       " '8 x 5 = 40',\n",
       " '8 x 6 = 48',\n",
       " '8 x 7 = 56',\n",
       " '8 x 8 = 64',\n",
       " '8 x 9 = 72',\n",
       " '9 x 1 = 9',\n",
       " '9 x 2 = 18',\n",
       " '9 x 3 = 27',\n",
       " '9 x 4 = 36',\n",
       " '9 x 5 = 45',\n",
       " '9 x 6 = 54',\n",
       " '9 x 7 = 63',\n",
       " '9 x 8 = 72',\n",
       " '9 x 9 = 81']"
      ]
     },
     "execution_count": 20,
     "metadata": {},
     "output_type": "execute_result"
    }
   ],
   "source": [
    "[f\"{x} x {y} = {x * y}\" for x in range(2, 10) for y in range(1, 10)]"
   ]
  },
  {
   "cell_type": "markdown",
   "id": "8b4f345a-ce3b-4699-8e40-71d52927d88a",
   "metadata": {},
   "source": [
    "# 튜플(값을 변경할 수 없음)\n",
    "* -(차집합)\n",
    "* &(교집합)\n",
    "* |(합집합)\n",
    "* list의 중복된 데이터를 제거할 때 바인딩해서 활용"
   ]
  },
  {
   "cell_type": "code",
   "execution_count": 25,
   "id": "037d1897-dcbd-4033-a3d8-11ccbbb65970",
   "metadata": {},
   "outputs": [],
   "source": [
    "a = (1, \"2\", 3)"
   ]
  },
  {
   "cell_type": "code",
   "execution_count": 24,
   "id": "0d910cf2-ed74-4ddd-9c1b-81d519b86e3e",
   "metadata": {},
   "outputs": [],
   "source": [
    "b = [1, \"2\", 3]"
   ]
  },
  {
   "cell_type": "markdown",
   "id": "ec940f4d-3f92-4747-a34b-259d6f47f467",
   "metadata": {},
   "source": [
    "# set"
   ]
  },
  {
   "cell_type": "code",
   "execution_count": 27,
   "id": "78477232-b6d5-4cad-b41a-259b8ae5169c",
   "metadata": {},
   "outputs": [
    {
     "data": {
      "text/plain": [
       "set"
      ]
     },
     "execution_count": 27,
     "metadata": {},
     "output_type": "execute_result"
    }
   ],
   "source": [
    "set_a = {1,2,3}\n",
    "set_b = {2,3,4}\n",
    "type(set_a)"
   ]
  },
  {
   "cell_type": "markdown",
   "id": "1fbab1ff-d1e2-4b45-bbdd-a4383ba3b22d",
   "metadata": {},
   "source": [
    "### del 키워드로 list 요소 제거 가능"
   ]
  },
  {
   "cell_type": "markdown",
   "id": "56251294-4bef-4191-adfb-0c151b6ee651",
   "metadata": {},
   "source": [
    "# 사용자 함수"
   ]
  },
  {
   "cell_type": "code",
   "execution_count": 29,
   "id": "1b904bc3-a9ed-4b13-9110-9bb79d327698",
   "metadata": {},
   "outputs": [
    {
     "data": {
      "text/plain": [
       "3"
      ]
     },
     "execution_count": 29,
     "metadata": {},
     "output_type": "execute_result"
    }
   ],
   "source": [
    "def add(a, b):\n",
    "    return a + b\n",
    "add(1, 2)"
   ]
  },
  {
   "cell_type": "markdown",
   "id": "eb180e69-112c-45dd-a5fd-f9a9d1665556",
   "metadata": {},
   "source": [
    "### 회문 단어 체크 사용자 함수 만들기"
   ]
  },
  {
   "cell_type": "code",
   "execution_count": 42,
   "id": "f960a111-f620-40d9-ad54-e6e52db22c65",
   "metadata": {},
   "outputs": [],
   "source": [
    "def PalCheck(text):\n",
    "    return text[::-1] == text"
   ]
  },
  {
   "cell_type": "code",
   "execution_count": 48,
   "id": "2b28d4e5-85bc-41ed-ae70-d87979c64803",
   "metadata": {},
   "outputs": [
    {
     "data": {
      "text/plain": [
       "False"
      ]
     },
     "execution_count": 48,
     "metadata": {},
     "output_type": "execute_result"
    }
   ],
   "source": [
    "PalCheck(\"aaba\")"
   ]
  },
  {
   "cell_type": "markdown",
   "id": "fcc12c72-3ed6-481a-bcb2-23eb1ed3e6b0",
   "metadata": {},
   "source": [
    "* 초기값 설정(앞의 값이 초기값이 있다면 후에 올 매개변수는 무조건 초기값을 설정해야 한다.)"
   ]
  },
  {
   "cell_type": "code",
   "execution_count": 50,
   "id": "353e63a2-0faf-43da-be35-87a76a006c0f",
   "metadata": {},
   "outputs": [],
   "source": [
    "def ResetVal(a = 10, b = 20):\n",
    "    return a + b"
   ]
  },
  {
   "cell_type": "code",
   "execution_count": 52,
   "id": "d035e2d1-de61-4f9a-bbe1-9a7282f975be",
   "metadata": {},
   "outputs": [
    {
     "data": {
      "text/plain": [
       "70"
      ]
     },
     "execution_count": 52,
     "metadata": {},
     "output_type": "execute_result"
    }
   ],
   "source": [
    "ResetVal(50)"
   ]
  },
  {
   "cell_type": "code",
   "execution_count": 230,
   "id": "167720fc-e557-4f6a-8371-174a4cebc046",
   "metadata": {},
   "outputs": [],
   "source": [
    "import requests\n",
    "url= 'https://www.starbucks.co.kr/store/getStore.do?r=804IUG79N7'\n",
    "payload = {\n",
    "    'in_biz_cds' : '0',\n",
    "    'in_scodes' : '0',\n",
    "    'ins_lat' : '37.5627128',\n",
    "    'ins_lng' : '126.93279869999999',\n",
    "    'search_text' : '',\n",
    "    'p_sido_cd' : '01',\n",
    "    'p_gugun_cd' : '',\n",
    "    'in_distance' : '0',\n",
    "    'in_biz_cd' : '',\n",
    "    'isError' : 'true',\n",
    "    'searchType' : 'C',\n",
    "    'set_date' : '',\n",
    "    'all_store' : '0',\n",
    "    'T03' : '0',\n",
    "    'T01' : '0',\n",
    "    'T12' : '0',\n",
    "    'T09' : '0',\n",
    "    'T30' : '0',\n",
    "    'T05' : '0',\n",
    "    'T22' : '0',\n",
    "    'T21' : '0',\n",
    "    'T10' : '0',\n",
    "    'T36' : '0',\n",
    "    'P10' : '0',\n",
    "    'P50' : '0',\n",
    "    'P20' : '0',\n",
    "    'P60' : '0',\n",
    "    'P30' : '0',\n",
    "    'P70' : '0',\n",
    "    'P40' : '0',\n",
    "    'P80' : '0',\n",
    "    'whcroad_yn' : '0',\n",
    "    'P90' : '0',\n",
    "    'new_bool' : '0',\n",
    "    'iend' : '1000',\n",
    "    'rndCod' : 'V8UNZFKU44',}\n",
    "r = requests.post(url, data=payload)\n",
    "rt = r.json()"
   ]
  },
  {
   "cell_type": "code",
   "execution_count": 63,
   "id": "71ba2bb6-58cc-4d21-aa69-1308aeb9a03a",
   "metadata": {},
   "outputs": [
    {
     "data": {
      "text/plain": [
       "dict"
      ]
     },
     "execution_count": 63,
     "metadata": {},
     "output_type": "execute_result"
    }
   ],
   "source": [
    "type(rt)"
   ]
  },
  {
   "cell_type": "code",
   "execution_count": 65,
   "id": "fbd8a387-bc26-42ad-b9b9-a122bd129789",
   "metadata": {},
   "outputs": [
    {
     "data": {
      "text/plain": [
       "1"
      ]
     },
     "execution_count": 65,
     "metadata": {},
     "output_type": "execute_result"
    }
   ],
   "source": [
    "len(rt)"
   ]
  },
  {
   "cell_type": "code",
   "execution_count": 232,
   "id": "8c8f0579-3a27-42b9-84c4-3fa67a2f6dcd",
   "metadata": {},
   "outputs": [],
   "source": [
    "rt_list = rt[\"list\"]"
   ]
  },
  {
   "cell_type": "code",
   "execution_count": 192,
   "id": "6265eba4-f6e0-4d60-8243-31af98b03113",
   "metadata": {},
   "outputs": [
    {
     "data": {
      "text/plain": [
       "562"
      ]
     },
     "execution_count": 192,
     "metadata": {},
     "output_type": "execute_result"
    }
   ],
   "source": [
    "len(rt_list)"
   ]
  },
  {
   "cell_type": "code",
   "execution_count": 233,
   "id": "2d0d6af3-70fb-4ecc-88c8-793e33c36dfa",
   "metadata": {},
   "outputs": [
    {
     "name": "stdout",
     "output_type": "stream",
     "text": [
      "0, seq의 값은 0\n",
      "1, sido_cd의 값은 None\n",
      "2, sido_nm의 값은 None\n",
      "3, gugun_cd의 값은 None\n",
      "4, gugun_nm의 값은 None\n",
      "5, code_order의 값은 None\n",
      "6, view_yn의 값은 None\n",
      "7, store_num의 값은 None\n",
      "8, sido의 값은 None\n",
      "9, gugun의 값은 None\n",
      "10, address의 값은 None\n",
      "11, new_img_nm의 값은 None\n",
      "12, p_pro_seq의 값은 0\n",
      "13, p_view_yn의 값은 None\n",
      "14, p_sido_cd의 값은 \n",
      "15, p_gugun_cd의 값은 \n",
      "16, p_store_nm의 값은 None\n",
      "17, p_theme_cd의 값은 None\n",
      "18, p_wireless_yn의 값은 None\n",
      "19, p_smoking_yn의 값은 None\n",
      "20, p_book_yn의 값은 None\n",
      "21, p_music_yn의 값은 None\n",
      "22, p_terrace_yn의 값은 None\n",
      "23, p_table_yn의 값은 None\n",
      "24, p_takeout_yn의 값은 None\n",
      "25, p_parking_yn의 값은 None\n",
      "26, p_dollar_assent의 값은 None\n",
      "27, p_card_recharge의 값은 None\n",
      "28, p_subway_yn의 값은 None\n",
      "29, stb_store_file_renew의 값은 None\n",
      "30, stb_store_theme_renew의 값은 None\n",
      "31, stb_store_time_renew의 값은 None\n",
      "32, stb_store_lsm의 값은 None\n",
      "33, s_code의 값은 1509\n",
      "34, s_name의 값은 역삼아레나빌딩\n",
      "35, tel의 값은 1522-3232\n",
      "36, fax의 값은 02-568-3763\n",
      "37, sido_code의 값은 01\n",
      "38, sido_name의 값은 서울\n",
      "39, gugun_code의 값은 0101\n",
      "40, gugun_name의 값은 강남구\n",
      "41, addr의 값은 서울특별시 강남구 역삼동 721-13 아레나빌딩\n",
      "42, park_info의 값은 None\n",
      "43, new_state의 값은 None\n",
      "44, theme_state의 값은 T05@T08@T16@T17@T20@T21@T30@T36@P80@P90\n",
      "45, new_bool의 값은 0\n",
      "46, search_text의 값은 \n",
      "47, ins_lat의 값은 \n",
      "48, ins_lng의 값은 \n",
      "49, in_distance의 값은 0\n",
      "50, out_distance의 값은 11.9\n",
      "51, all_search_cnt의 값은 -1\n",
      "52, addr_search_cnt의 값은 -1\n",
      "53, store_search_cnt의 값은 -1\n",
      "54, rowCount의 값은 30\n",
      "55, store_nm의 값은 \n",
      "56, store_cd의 값은 0\n",
      "57, s_biz_code의 값은 3762\n",
      "58, new_icon의 값은 N\n",
      "59, set_user의 값은 \n",
      "60, favorites의 값은 0\n",
      "61, map_desc의 값은 None\n",
      "62, notice의 값은 None\n",
      "63, defaultimage의 값은 /upload/store/2020/09/[3762]_20200917031519_6juwr.JPG\n",
      "64, etcimage의 값은 None\n",
      "65, in_biz_cd의 값은 None\n",
      "66, in_store_cd의 값은 None\n",
      "67, in_favorites의 값은 None\n",
      "68, in_user_id의 값은 None\n",
      "69, in_biz_cds의 값은 0\n",
      "70, in_biz_arr의 값은 None\n",
      "71, in_biz_arrdata의 값은 None\n",
      "72, in_scodes의 값은 0\n",
      "73, in_scode_arr의 값은 None\n",
      "74, in_scode_arrdata의 값은 None\n",
      "75, disp의 값은 None\n",
      "76, set_date의 값은 None\n",
      "77, hlytag의 값은 None\n",
      "78, hlytag_msg의 값은 None\n",
      "79, vSal의 값은 \n",
      "80, istart의 값은 1\n",
      "81, iend의 값은 60\n",
      "82, open_dt의 값은 20190613\n",
      "83, gold_card의 값은 0\n",
      "84, ip_lat의 값은 \n",
      "85, ip_long의 값은 \n",
      "86, espresso의 값은 \n",
      "87, new_store의 값은 \n",
      "88, premiere_food의 값은 \n",
      "89, doro_address의 값은 서울특별시 강남구 언주로 425 (역삼동)\n",
      "90, cold_blew의 값은 \n",
      "91, my_siren_order_store_yn의 값은 N\n",
      "92, whcroad_yn의 값은 WHCROAD\n",
      "93, skuNo의 값은 \n",
      "94, skuName의 값은 \n",
      "95, skuImgUrl의 값은 \n",
      "96, stock_count의 값은 0\n",
      "97, store_area_name의 값은 None\n",
      "98, store_area_code의 값은 A01\n",
      "99, is_open의 값은 None\n",
      "100, gift_stock_yn의 값은 None\n",
      "101, lat의 값은 37.501087\n",
      "102, lot의 값은 127.043069\n",
      "103, t20의 값은 0\n",
      "104, t04의 값은 0\n",
      "105, t03의 값은 0\n",
      "106, t01의 값은 0\n",
      "107, t12의 값은 0\n",
      "108, t09의 값은 0\n",
      "109, t06의 값은 0\n",
      "110, t10의 값은 0\n",
      "111, p10의 값은 0\n",
      "112, p50의 값은 0\n",
      "113, p20의 값은 0\n",
      "114, p60의 값은 0\n",
      "115, p30의 값은 0\n",
      "116, p70의 값은 0\n",
      "117, p40의 값은 0\n",
      "118, p80의 값은 0\n",
      "119, t22의 값은 0\n",
      "120, t21의 값은 0\n",
      "121, p90의 값은 0\n",
      "122, t05의 값은 0\n",
      "123, t30의 값은 0\n",
      "124, t36의 값은 0\n",
      "125, t27의 값은 0\n",
      "126, t29의 값은 0\n",
      "127, t43의 값은 0\n",
      "128, t48의 값은 0\n"
     ]
    }
   ],
   "source": [
    "store_dict = rt_list[0]\n",
    "for idx, x in enumerate(store_dict.keys()):\n",
    "    print(f\"{idx}, {x}의 값은 {store_dict[x]}\")"
   ]
  },
  {
   "cell_type": "code",
   "execution_count": 93,
   "id": "5cc040ab-d1a2-49ac-8cee-b8ed2c79c453",
   "metadata": {},
   "outputs": [
    {
     "data": {
      "text/plain": [
       "562"
      ]
     },
     "execution_count": 93,
     "metadata": {},
     "output_type": "execute_result"
    }
   ],
   "source": [
    "len(rt_list)"
   ]
  },
  {
   "cell_type": "code",
   "execution_count": 185,
   "id": "890c10a0-2862-43a9-bb71-c972a43aaf40",
   "metadata": {},
   "outputs": [],
   "source": [
    "def SearchStoreLoadAddr(store_name):\n",
    "    for rt in rt_list:\n",
    "        if(store_name == rt['s_name']):\n",
    "            print(f\"도로명주소 : {rt['doro_address']}\")\n",
    "            print(f\"지번주소 : {rt['addr']}\")\n",
    "            break"
   ]
  },
  {
   "cell_type": "code",
   "execution_count": 186,
   "id": "92177347-4fb5-4ce0-9f66-9605d7376225",
   "metadata": {},
   "outputs": [
    {
     "name": "stdout",
     "output_type": "stream",
     "text": [
      "도로명주소 : 서울특별시 중구 을지로 19, 삼성화재삼성빌딩 1층 (을지로1가)\n",
      "지번주소 : 서울특별시 중구 을지로1가 50 삼성화재 삼성빌딩1층\n"
     ]
    }
   ],
   "source": [
    "SearchStoreLoadAddr(\"시청플러스\")"
   ]
  },
  {
   "cell_type": "markdown",
   "id": "3d364be9-45b4-41ba-a9b3-13c2948743fb",
   "metadata": {},
   "source": [
    "### unpacking"
   ]
  },
  {
   "cell_type": "code",
   "execution_count": 159,
   "id": "86986466-8ad1-4249-821c-9284fe6c3e07",
   "metadata": {},
   "outputs": [],
   "source": [
    "a, b = [1, 2]"
   ]
  },
  {
   "cell_type": "code",
   "execution_count": 160,
   "id": "370f4685-0d2c-45bb-abd1-11da15597f81",
   "metadata": {},
   "outputs": [
    {
     "data": {
      "text/plain": [
       "1"
      ]
     },
     "execution_count": 160,
     "metadata": {},
     "output_type": "execute_result"
    }
   ],
   "source": [
    "a"
   ]
  },
  {
   "cell_type": "code",
   "execution_count": 162,
   "id": "69d70502-ab9d-431a-b909-7eac475a3c55",
   "metadata": {},
   "outputs": [
    {
     "data": {
      "text/plain": [
       "2"
      ]
     },
     "execution_count": 162,
     "metadata": {},
     "output_type": "execute_result"
    }
   ],
   "source": [
    "b"
   ]
  },
  {
   "cell_type": "code",
   "execution_count": 165,
   "id": "73ad22d1-33d5-49ea-8461-4819af2cc4be",
   "metadata": {},
   "outputs": [],
   "source": [
    "a, *b = [1, 2, 3]"
   ]
  },
  {
   "cell_type": "code",
   "execution_count": 167,
   "id": "6745b2f1-e432-4487-b227-d9ee5e135e2d",
   "metadata": {},
   "outputs": [
    {
     "data": {
      "text/plain": [
       "1"
      ]
     },
     "execution_count": 167,
     "metadata": {},
     "output_type": "execute_result"
    }
   ],
   "source": [
    "a"
   ]
  },
  {
   "cell_type": "code",
   "execution_count": 170,
   "id": "a45ba2c2-febc-46e8-804e-bf17d31944eb",
   "metadata": {},
   "outputs": [
    {
     "data": {
      "text/plain": [
       "[2, 3]"
      ]
     },
     "execution_count": 170,
     "metadata": {},
     "output_type": "execute_result"
    }
   ],
   "source": [
    "b"
   ]
  },
  {
   "cell_type": "code",
   "execution_count": 234,
   "id": "c2843d69-d60f-4a5d-a235-91c793c06980",
   "metadata": {},
   "outputs": [],
   "source": [
    "# gugun_name 구이름\n",
    "gugun_count = dict()\n",
    "for rt in rt_list:\n",
    "    #print(x)\n",
    "    if rt['gugun_name'] in gugun_count:\n",
    "        gugun_count[rt['gugun_name']] += 1\n",
    "    else:\n",
    "        gugun_count[rt['gugun_name']] = 1"
   ]
  },
  {
   "cell_type": "code",
   "execution_count": 235,
   "id": "c2532ad7-9366-41f6-9134-2223db8908dd",
   "metadata": {},
   "outputs": [
    {
     "name": "stdout",
     "output_type": "stream",
     "text": [
      "{'강남구': 86, '강북구': 6, '강서구': 20, '관악구': 11, '광진구': 17, '금천구': 11, '노원구': 13, '도봉구': 3, '동작구': 11, '마포구': 32, '서대문구': 20, '서초구': 48, '성북구': 14, '송파구': 33, '양천구': 17, '영등포구': 39, '은평구': 8, '종로구': 41, '중구': 56, '강동구': 16, '구로구': 11, '동대문구': 9, '성동구': 11, '용산구': 21, '중랑구': 8}\n"
     ]
    }
   ],
   "source": [
    "print(gugun_count)"
   ]
  }
 ],
 "metadata": {
  "kernelspec": {
   "display_name": "Python 3",
   "language": "python",
   "name": "python3"
  },
  "language_info": {
   "codemirror_mode": {
    "name": "ipython",
    "version": 3
   },
   "file_extension": ".py",
   "mimetype": "text/x-python",
   "name": "python",
   "nbconvert_exporter": "python",
   "pygments_lexer": "ipython3",
   "version": "3.8.8"
  }
 },
 "nbformat": 4,
 "nbformat_minor": 5
}
